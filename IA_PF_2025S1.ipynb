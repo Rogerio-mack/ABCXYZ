{
  "nbformat": 4,
  "nbformat_minor": 0,
  "metadata": {
    "colab": {
      "provenance": [],
      "authorship_tag": "ABX9TyOYOOXDTJPI/Y0K1vWARSZj",
      "include_colab_link": true
    },
    "kernelspec": {
      "name": "python3",
      "display_name": "Python 3"
    },
    "language_info": {
      "name": "python"
    }
  },
  "cells": [
    {
      "cell_type": "markdown",
      "metadata": {
        "id": "view-in-github",
        "colab_type": "text"
      },
      "source": [
        "<a href=\"https://colab.research.google.com/github/Rogerio-mack/ABCXYZ/blob/main/IA_PF_2025S1.ipynb\" target=\"_parent\"><img src=\"https://colab.research.google.com/assets/colab-badge.svg\" alt=\"Open In Colab\"/></a>"
      ]
    },
    {
      "cell_type": "code",
      "execution_count": 28,
      "metadata": {
        "colab": {
          "base_uri": "https://localhost:8080/",
          "height": 483
        },
        "id": "liq1r_Miz38Q",
        "outputId": "d8494469-281b-427d-a698-ac2605857cd7"
      },
      "outputs": [
        {
          "output_type": "stream",
          "name": "stdout",
          "text": [
            "Epoch 1/2\n"
          ]
        },
        {
          "output_type": "stream",
          "name": "stderr",
          "text": [
            "/usr/local/lib/python3.11/dist-packages/keras/src/layers/core/dense.py:87: UserWarning: Do not pass an `input_shape`/`input_dim` argument to a layer. When using Sequential models, prefer using an `Input(shape)` object as the first layer in the model instead.\n",
            "  super().__init__(activity_regularizer=activity_regularizer, **kwargs)\n"
          ]
        },
        {
          "output_type": "stream",
          "name": "stdout",
          "text": [
            "\u001b[1m20/20\u001b[0m \u001b[32m━━━━━━━━━━━━━━━━━━━━\u001b[0m\u001b[37m\u001b[0m \u001b[1m4s\u001b[0m 55ms/step - accuracy: 0.1731 - loss: 1.2264 - precision_10: 0.0000e+00 - recall_10: 0.0000e+00 - val_accuracy: 0.4167 - val_loss: 1.1008 - val_precision_10: 0.0000e+00 - val_recall_10: 0.0000e+00\n",
            "Epoch 2/2\n",
            "\u001b[1m20/20\u001b[0m \u001b[32m━━━━━━━━━━━━━━━━━━━━\u001b[0m\u001b[37m\u001b[0m \u001b[1m0s\u001b[0m 11ms/step - accuracy: 0.3503 - loss: 1.1163 - precision_10: 0.2937 - recall_10: 0.0089 - val_accuracy: 0.5000 - val_loss: 1.0179 - val_precision_10: 0.0000e+00 - val_recall_10: 0.0000e+00\n",
            "\u001b[1m1/1\u001b[0m \u001b[32m━━━━━━━━━━━━━━━━━━━━\u001b[0m\u001b[37m\u001b[0m \u001b[1m0s\u001b[0m 73ms/step - accuracy: 0.3667 - loss: 1.0346 - precision_10: 0.0000e+00 - recall_10: 0.0000e+00\n",
            "Test Loss: 1.0346112251281738\n",
            "Test Accuracy: 0.36666667461395264\n",
            "Test Precision: 0.0\n",
            "Test Recall: 0.0\n"
          ]
        },
        {
          "output_type": "display_data",
          "data": {
            "text/plain": [
              "\u001b[1mModel: \"sequential_10\"\u001b[0m\n"
            ],
            "text/html": [
              "<pre style=\"white-space:pre;overflow-x:auto;line-height:normal;font-family:Menlo,'DejaVu Sans Mono',consolas,'Courier New',monospace\"><span style=\"font-weight: bold\">Model: \"sequential_10\"</span>\n",
              "</pre>\n"
            ]
          },
          "metadata": {}
        },
        {
          "output_type": "display_data",
          "data": {
            "text/plain": [
              "┏━━━━━━━━━━━━━━━━━━━━━━━━━━━━━━━━━┳━━━━━━━━━━━━━━━━━━━━━━━━┳━━━━━━━━━━━━━━━┓\n",
              "┃\u001b[1m \u001b[0m\u001b[1mLayer (type)                   \u001b[0m\u001b[1m \u001b[0m┃\u001b[1m \u001b[0m\u001b[1mOutput Shape          \u001b[0m\u001b[1m \u001b[0m┃\u001b[1m \u001b[0m\u001b[1m      Param #\u001b[0m\u001b[1m \u001b[0m┃\n",
              "┡━━━━━━━━━━━━━━━━━━━━━━━━━━━━━━━━━╇━━━━━━━━━━━━━━━━━━━━━━━━╇━━━━━━━━━━━━━━━┩\n",
              "│ dense_30 (\u001b[38;5;33mDense\u001b[0m)                │ (\u001b[38;5;45mNone\u001b[0m, \u001b[38;5;34m10\u001b[0m)             │            \u001b[38;5;34m50\u001b[0m │\n",
              "├─────────────────────────────────┼────────────────────────┼───────────────┤\n",
              "│ dense_31 (\u001b[38;5;33mDense\u001b[0m)                │ (\u001b[38;5;45mNone\u001b[0m, \u001b[38;5;34m10\u001b[0m)             │           \u001b[38;5;34m110\u001b[0m │\n",
              "├─────────────────────────────────┼────────────────────────┼───────────────┤\n",
              "│ dense_32 (\u001b[38;5;33mDense\u001b[0m)                │ (\u001b[38;5;45mNone\u001b[0m, \u001b[38;5;34m3\u001b[0m)              │            \u001b[38;5;34m33\u001b[0m │\n",
              "└─────────────────────────────────┴────────────────────────┴───────────────┘\n"
            ],
            "text/html": [
              "<pre style=\"white-space:pre;overflow-x:auto;line-height:normal;font-family:Menlo,'DejaVu Sans Mono',consolas,'Courier New',monospace\">┏━━━━━━━━━━━━━━━━━━━━━━━━━━━━━━━━━┳━━━━━━━━━━━━━━━━━━━━━━━━┳━━━━━━━━━━━━━━━┓\n",
              "┃<span style=\"font-weight: bold\"> Layer (type)                    </span>┃<span style=\"font-weight: bold\"> Output Shape           </span>┃<span style=\"font-weight: bold\">       Param # </span>┃\n",
              "┡━━━━━━━━━━━━━━━━━━━━━━━━━━━━━━━━━╇━━━━━━━━━━━━━━━━━━━━━━━━╇━━━━━━━━━━━━━━━┩\n",
              "│ dense_30 (<span style=\"color: #0087ff; text-decoration-color: #0087ff\">Dense</span>)                │ (<span style=\"color: #00d7ff; text-decoration-color: #00d7ff\">None</span>, <span style=\"color: #00af00; text-decoration-color: #00af00\">10</span>)             │            <span style=\"color: #00af00; text-decoration-color: #00af00\">50</span> │\n",
              "├─────────────────────────────────┼────────────────────────┼───────────────┤\n",
              "│ dense_31 (<span style=\"color: #0087ff; text-decoration-color: #0087ff\">Dense</span>)                │ (<span style=\"color: #00d7ff; text-decoration-color: #00d7ff\">None</span>, <span style=\"color: #00af00; text-decoration-color: #00af00\">10</span>)             │           <span style=\"color: #00af00; text-decoration-color: #00af00\">110</span> │\n",
              "├─────────────────────────────────┼────────────────────────┼───────────────┤\n",
              "│ dense_32 (<span style=\"color: #0087ff; text-decoration-color: #0087ff\">Dense</span>)                │ (<span style=\"color: #00d7ff; text-decoration-color: #00d7ff\">None</span>, <span style=\"color: #00af00; text-decoration-color: #00af00\">3</span>)              │            <span style=\"color: #00af00; text-decoration-color: #00af00\">33</span> │\n",
              "└─────────────────────────────────┴────────────────────────┴───────────────┘\n",
              "</pre>\n"
            ]
          },
          "metadata": {}
        },
        {
          "output_type": "display_data",
          "data": {
            "text/plain": [
              "\u001b[1m Total params: \u001b[0m\u001b[38;5;34m581\u001b[0m (2.27 KB)\n"
            ],
            "text/html": [
              "<pre style=\"white-space:pre;overflow-x:auto;line-height:normal;font-family:Menlo,'DejaVu Sans Mono',consolas,'Courier New',monospace\"><span style=\"font-weight: bold\"> Total params: </span><span style=\"color: #00af00; text-decoration-color: #00af00\">581</span> (2.27 KB)\n",
              "</pre>\n"
            ]
          },
          "metadata": {}
        },
        {
          "output_type": "display_data",
          "data": {
            "text/plain": [
              "\u001b[1m Trainable params: \u001b[0m\u001b[38;5;34m193\u001b[0m (772.00 B)\n"
            ],
            "text/html": [
              "<pre style=\"white-space:pre;overflow-x:auto;line-height:normal;font-family:Menlo,'DejaVu Sans Mono',consolas,'Courier New',monospace\"><span style=\"font-weight: bold\"> Trainable params: </span><span style=\"color: #00af00; text-decoration-color: #00af00\">193</span> (772.00 B)\n",
              "</pre>\n"
            ]
          },
          "metadata": {}
        },
        {
          "output_type": "display_data",
          "data": {
            "text/plain": [
              "\u001b[1m Non-trainable params: \u001b[0m\u001b[38;5;34m0\u001b[0m (0.00 B)\n"
            ],
            "text/html": [
              "<pre style=\"white-space:pre;overflow-x:auto;line-height:normal;font-family:Menlo,'DejaVu Sans Mono',consolas,'Courier New',monospace\"><span style=\"font-weight: bold\"> Non-trainable params: </span><span style=\"color: #00af00; text-decoration-color: #00af00\">0</span> (0.00 B)\n",
              "</pre>\n"
            ]
          },
          "metadata": {}
        },
        {
          "output_type": "display_data",
          "data": {
            "text/plain": [
              "\u001b[1m Optimizer params: \u001b[0m\u001b[38;5;34m388\u001b[0m (1.52 KB)\n"
            ],
            "text/html": [
              "<pre style=\"white-space:pre;overflow-x:auto;line-height:normal;font-family:Menlo,'DejaVu Sans Mono',consolas,'Courier New',monospace\"><span style=\"font-weight: bold\"> Optimizer params: </span><span style=\"color: #00af00; text-decoration-color: #00af00\">388</span> (1.52 KB)\n",
              "</pre>\n"
            ]
          },
          "metadata": {}
        },
        {
          "output_type": "stream",
          "name": "stdout",
          "text": [
            "None\n"
          ]
        }
      ],
      "source": [
        "\n",
        "import tensorflow as tf\n",
        "from sklearn.model_selection import train_test_split\n",
        "from sklearn.preprocessing import StandardScaler\n",
        "from sklearn.datasets import load_iris\n",
        "\n",
        "# Load the Iris dataset\n",
        "iris = load_iris()\n",
        "X, y = iris.data, iris.target\n",
        "\n",
        "# Split data into training and testing sets\n",
        "X_train, X_test, y_train, y_test = train_test_split(X, y, test_size=0.2, random_state=42)\n",
        "\n",
        "# Normalize the data outside the model\n",
        "scaler = StandardScaler()\n",
        "X_train_scaled = scaler.fit_transform(X_train)\n",
        "X_test_scaled = scaler.transform(X_test)\n",
        "\n",
        "y_train_encoded = tf.keras.utils.to_categorical(y_train, num_classes=3)\n",
        "y_test_encoded = tf.keras.utils.to_categorical(y_test, num_classes=3)\n",
        "\n",
        "# Build the TensorFlow model (same as before)\n",
        "model = tf.keras.Sequential([\n",
        "    tf.keras.layers.Dense(10, activation='relu', input_shape=(X_train_scaled.shape[1],)),\n",
        "    tf.keras.layers.Dense(10, activation='relu'),\n",
        "    tf.keras.layers.Dense(3, activation='softmax')  # 3 classes for Iris\n",
        "])\n",
        "\n",
        "# Compile the model, changing the loss function\n",
        "model.compile(optimizer='adam',\n",
        "              loss='categorical_crossentropy', # Changed loss function\n",
        "              metrics=['accuracy', tf.keras.metrics.Precision(), tf.keras.metrics.Recall()])\n",
        "\n",
        "# Train the model with the encoded y\n",
        "history = model.fit(X_train_scaled, y_train_encoded, epochs=2, batch_size=5, validation_split=0.2)\n",
        "\n",
        "# Evaluate the model on the test set with the encoded y\n",
        "loss, accuracy, precision, recall = model.evaluate(X_test_scaled, y_test_encoded)\n",
        "\n",
        "print(f\"Test Loss: {loss}\")\n",
        "print(f\"Test Accuracy: {accuracy}\")\n",
        "print(f\"Test Precision: {precision}\")\n",
        "print(f\"Test Recall: {recall}\")\n",
        "\n",
        "print(model.summary())\n"
      ]
    },
    {
      "cell_type": "code",
      "source": [
        "# prompt: plote o gráfico de evolução do modelo\n",
        "\n",
        "import matplotlib.pyplot as plt\n",
        "\n",
        "# Plot training and validation accuracy\n",
        "plt.plot(history.history['accuracy'], label='Training Accuracy')\n",
        "plt.plot(history.history['val_accuracy'], label='Validation Accuracy')\n",
        "plt.title('Model Accuracy Evolution')\n",
        "plt.xlabel('Epoch')\n",
        "plt.ylabel('Accuracy')\n",
        "plt.legend()\n",
        "plt.show()\n",
        "\n",
        "# Plot training and validation loss\n",
        "plt.plot(history.history['loss'], label='Training Loss')\n",
        "plt.plot(history.history['val_loss'], label='Validation Loss')\n",
        "plt.title('Model Loss Evolution')\n",
        "plt.xlabel('Epoch')\n",
        "plt.ylabel('Loss')\n",
        "plt.legend()\n",
        "plt.show()\n",
        "\n"
      ],
      "metadata": {
        "colab": {
          "base_uri": "https://localhost:8080/",
          "height": 927
        },
        "id": "a9mgCdTg8HMu",
        "outputId": "0ad565d2-f843-4271-bbfa-9e5800e8aa61"
      },
      "execution_count": 41,
      "outputs": [
        {
          "output_type": "display_data",
          "data": {
            "text/plain": [
              "<Figure size 640x480 with 1 Axes>"
            ],
            "image/png": "[encoded data removed]"
          },
          "metadata": {}
        },
        {
          "output_type": "display_data",
          "data": {
            "text/plain": [
              "<Figure size 640x480 with 1 Axes>"
            ],
            "image/png": "[encoded data removed]"
          },
          "metadata": {}
        }
      ]
    },
    {
      "cell_type": "code",
      "source": [
        "# Número pesos da rede\n",
        "10*(4+1) + 10*(10+1) + 3*(10+1)"
      ],
      "metadata": {
        "colab": {
          "base_uri": "https://localhost:8080/"
        },
        "id": "6NRpKGIA7aKu",
        "outputId": "e9c57b68-ee96-46b3-ee7b-9d7296e21f11"
      },
      "execution_count": 39,
      "outputs": [
        {
          "output_type": "execute_result",
          "data": {
            "text/plain": [
              "193"
            ]
          },
          "metadata": {},
          "execution_count": 39
        }
      ]
    },
    {
      "cell_type": "code",
      "source": [
        "\n",
        "from sklearn.metrics import confusion_matrix, classification_report\n",
        "import numpy as np\n",
        "\n",
        "# Make predictions on the test set\n",
        "y_pred_probs = model.predict(X_test_scaled)\n",
        "y_pred = np.argmax(y_pred_probs, axis=1) # Get the predicted class index\n",
        "\n",
        "# Create and print the confusion matrix\n",
        "conf_matrix = confusion_matrix(y_test, y_pred)\n",
        "print(\"\\nConfusion Matrix:\")\n",
        "print(conf_matrix)\n",
        "\n"
      ],
      "metadata": {
        "colab": {
          "base_uri": "https://localhost:8080/"
        },
        "id": "-mmY6gFy3o9F",
        "outputId": "ce1d4152-37a0-430c-f480-b59b33110279"
      },
      "execution_count": 29,
      "outputs": [
        {
          "output_type": "stream",
          "name": "stdout",
          "text": [
            "\u001b[1m1/1\u001b[0m \u001b[32m━━━━━━━━━━━━━━━━━━━━\u001b[0m\u001b[37m\u001b[0m \u001b[1m0s\u001b[0m 147ms/step\n",
            "\n",
            "Confusion Matrix:\n",
            "[[8 0 2]\n",
            " [2 0 7]\n",
            " [1 7 3]]\n"
          ]
        }
      ]
    },
    {
      "cell_type": "code",
      "source": [
        "setosa:\n",
        "1. VP + FN = 10 (support)\n",
        "2. recall: 0.8 = VP / (VP + FN) => 0.8 = VP / 10 => VP = 8\n",
        "3. VP + FN = 10 => 8 + FN = 10 => FN = 2\n",
        "\n",
        "virginica:\n",
        "1. VP + FN = 9 => 0 + (2 + x) = 9 => x = 7\n"
      ],
      "metadata": {
        "id": "BureFYYR9bZ9"
      },
      "execution_count": null,
      "outputs": []
    },
    {
      "cell_type": "code",
      "source": [
        "print(classification_report(y_test, y_pred, target_names=iris.target_names))"
      ],
      "metadata": {
        "colab": {
          "base_uri": "https://localhost:8080/"
        },
        "id": "SezyK8LC497f",
        "outputId": "cd4e08c3-611b-488c-820f-30161057bc93"
      },
      "execution_count": 30,
      "outputs": [
        {
          "output_type": "stream",
          "name": "stdout",
          "text": [
            "              precision    recall  f1-score   support\n",
            "\n",
            "      setosa       0.73      0.80      0.76        10\n",
            "  versicolor       0.00      0.00      0.00         9\n",
            "   virginica       0.25      0.27      0.26        11\n",
            "\n",
            "    accuracy                           0.37        30\n",
            "   macro avg       0.33      0.36      0.34        30\n",
            "weighted avg       0.33      0.37      0.35        30\n",
            "\n"
          ]
        }
      ]
    },
    {
      "cell_type": "code",
      "source": [
        "\n",
        "# Calculate TP, FP, TN, FN for each class from the confusion matrix\n",
        "# The confusion matrix is indexed as:\n",
        "# conf_matrix[true_class][predicted_class]\n",
        "# For a given class `i`:\n",
        "# TP = conf_matrix[i][i]\n",
        "# FP = sum of column i (excluding conf_matrix[i][i])\n",
        "# FN = sum of row i (excluding conf_matrix[i][i])\n",
        "# TN = sum of all elements excluding row i and column i\n",
        "\n",
        "num_classes = conf_matrix.shape[0]\n",
        "\n",
        "for i in range(num_classes):\n",
        "    tp = conf_matrix[i, i]\n",
        "    fp = conf_matrix[:, i].sum() - tp\n",
        "    fn = conf_matrix[i, :].sum() - tp\n",
        "    tn = conf_matrix.sum() - (tp + fp + fn)\n",
        "\n",
        "    print(f\"\\nMetrics for class '{iris.target_names[i]}':\")\n",
        "    print(f\"  True Positives (TP): {tp}\")\n",
        "    print(f\"  False Positives (FP): {fp}\")\n",
        "    print(f\"  False Negatives (FN): {fn}\")\n",
        "    print(f\"  True Negatives (TN): {tn}\")"
      ],
      "metadata": {
        "colab": {
          "base_uri": "https://localhost:8080/"
        },
        "id": "MRQWtv0c8wmt",
        "outputId": "48dff2e3-270f-460f-f4bc-81290a2740dd"
      },
      "execution_count": 42,
      "outputs": [
        {
          "output_type": "stream",
          "name": "stdout",
          "text": [
            "\n",
            "Metrics for class 'setosa':\n",
            "  True Positives (TP): 8\n",
            "  False Positives (FP): 3\n",
            "  False Negatives (FN): 2\n",
            "  True Negatives (TN): 17\n",
            "\n",
            "Metrics for class 'versicolor':\n",
            "  True Positives (TP): 0\n",
            "  False Positives (FP): 7\n",
            "  False Negatives (FN): 9\n",
            "  True Negatives (TN): 14\n",
            "\n",
            "Metrics for class 'virginica':\n",
            "  True Positives (TP): 3\n",
            "  False Positives (FP): 9\n",
            "  False Negatives (FN): 8\n",
            "  True Negatives (TN): 10\n"
          ]
        }
      ]
    },
    {
      "cell_type": "code",
      "source": [
        "import pickle\n",
        "import os\n",
        "\n",
        "# Create a directory to save the artifacts if it doesn't exist\n",
        "save_dir = '/content'\n",
        "os.makedirs(save_dir, exist_ok=True)\n",
        "\n",
        "# Save the trained model\n",
        "model.export(os.path.join(save_dir, 'iris_model'))\n",
        "\n",
        "# Save the training and testing datasets\n",
        "with open(os.path.join(save_dir, 'X_train.pkl'), 'wb') as f:\n",
        "    pickle.dump(X_train, f)\n",
        "\n",
        "with open(os.path.join(save_dir, 'X_test.pkl'), 'wb') as f:\n",
        "    pickle.dump(X_test, f)\n",
        "\n",
        "with open(os.path.join(save_dir, 'y_train.pkl'), 'wb') as f:\n",
        "    pickle.dump(y_train, f)\n",
        "\n",
        "with open(os.path.join(save_dir, 'y_test.pkl'), 'wb') as f:\n",
        "    pickle.dump(y_test, f)\n",
        "\n",
        "# Save the scaler as well, as it's needed for future predictions\n",
        "with open(os.path.join(save_dir, 'scaler.pkl'), 'wb') as f:\n",
        "    pickle.dump(scaler, f)\n",
        "\n",
        "print(f\"Model and data saved to directory: {save_dir}\")"
      ],
      "metadata": {
        "colab": {
          "base_uri": "https://localhost:8080/"
        },
        "id": "Lt_JtP_S6Ham",
        "outputId": "0f41400a-90d8-44a9-8aa9-ae0ba10262cc"
      },
      "execution_count": 36,
      "outputs": [
        {
          "output_type": "stream",
          "name": "stdout",
          "text": [
            "Saved artifact at '/content/iris_model'. The following endpoints are available:\n",
            "\n",
            "* Endpoint 'serve'\n",
            "  args_0 (POSITIONAL_ONLY): TensorSpec(shape=(None, 4), dtype=tf.float32, name='keras_tensor_40')\n",
            "Output Type:\n",
            "  TensorSpec(shape=(None, 3), dtype=tf.float32, name=None)\n",
            "Captures:\n",
            "  138345102209104: TensorSpec(shape=(), dtype=tf.resource, name=None)\n",
            "  138345102197776: TensorSpec(shape=(), dtype=tf.resource, name=None)\n",
            "  138345102211024: TensorSpec(shape=(), dtype=tf.resource, name=None)\n",
            "  138345102205840: TensorSpec(shape=(), dtype=tf.resource, name=None)\n",
            "  138345102204496: TensorSpec(shape=(), dtype=tf.resource, name=None)\n",
            "  138345236020112: TensorSpec(shape=(), dtype=tf.resource, name=None)\n",
            "Model and data saved to directory: /content\n"
          ]
        }
      ]
    }
  ]
}