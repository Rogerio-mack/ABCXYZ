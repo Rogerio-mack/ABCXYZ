{
  "nbformat": 4,
  "nbformat_minor": 0,
  "metadata": {
    "colab": {
      "provenance": [],
      "include_colab_link": true
    },
    "kernelspec": {
      "name": "python3",
      "display_name": "Python 3"
    }
  },
  "cells": [
    {
      "cell_type": "markdown",
      "metadata": {
        "id": "view-in-github",
        "colab_type": "text"
      },
      "source": [
        "<a href=\"https://colab.research.google.com/github/Rogerio-mack/ABCXYZ/blob/main/Oriba_ABCXYZ_Matriz_de_Cofunsao_Classificadores.ipynb\" target=\"_parent\"><img src=\"https://colab.research.google.com/assets/colab-badge.svg\" alt=\"Open In Colab\"/></a>"
      ]
    },
    {
      "cell_type": "markdown",
      "metadata": {
        "id": "pqEhMdFQO3A-"
      },
      "source": [
        "<head>\n",
        "  <meta name=\"author\" content=\"Rogério de Oliveira\">\n",
        "  <meta institution=\"author\" content=\"Universidade Presbiteriana Mackenzie\">\n",
        "</head>\n",
        "\n",
        "<img src=\"http://meusite.mackenzie.br/rogerio/mackenzie_logo/UPM.2_horizontal_vermelho.jpg\" width=300, align=\"right\"> \n",
        "<!-- <h1 align=left><font size = 6, style=\"color:rgb(200,0,0)\"> optional title </font></h1> -->\n",
        "\n",
        "<br>\n",
        "<br>\n",
        "<br>\n",
        "<br>\n",
        "<br>\n",
        "\n",
        "# **Matriz de Confusão dos Diferentes Classificadores (CV, AIC, MSE)**\n",
        "---"
      ]
    },
    {
      "cell_type": "code",
      "metadata": {
        "id": "tAhw8WnbzS7u"
      },
      "source": [
        "import pandas as pd\n",
        "import numpy as np\n",
        "import matplotlib.pyplot as plt\n",
        "%matplotlib inline\n",
        "import seaborn as sns\n",
        "import warnings\n",
        "warnings.filterwarnings(\"ignore\")\n"
      ],
      "execution_count": 3,
      "outputs": []
    },
    {
      "cell_type": "code",
      "source": [
        "df = pd.read_excel('https://github.com/Rogerio-mack/ABCXYZ/raw/main/oriba_ABCXYZ_results.xlsx')\n",
        "df = df.drop(columns='ABC.1')\n",
        "\n",
        "df['ABC_XYZ_CV'] = df['ABC'] + df['CLUSTER_CV']\n",
        "df['ABC_XYZ_AIC'] = df['ABC'] + df['CLUSTER AIC']\n",
        "df['ABC_XYZ_MSE'] = df['ABC'] + df['CLUSTER MSE']\n",
        "\n",
        "df.head()\n",
        "\n"
      ],
      "metadata": {
        "id": "gsDy24qguVgJ",
        "outputId": "c18e18ed-7cc8-41c6-a21f-a7477a242002",
        "colab": {
          "base_uri": "https://localhost:8080/",
          "height": 206
        }
      },
      "execution_count": 13,
      "outputs": [
        {
          "output_type": "execute_result",
          "data": {
            "text/plain": [
              "                                            Produtos ABC CLUSTER_CV  \\\n",
              "0  Bermuda Cargo Algodão Orgânico Light Azul Marinho   C          X   \n",
              "1  Bermuda Cargo Algodão Orgânico Light Cinza Chumbo   B          X   \n",
              "2         Bermuda Cargo Algodão Orgânico Light Preto   C          X   \n",
              "3   Bermuda Cargo Algodão Orgânico Light Verde Oliva   B          X   \n",
              "4                              Bermuda Chambray Azul   C          Z   \n",
              "\n",
              "  CLUSTER AIC CLUSTER MSE ABC_XYZ_CV ABC_XYZ_AIC ABC_XYZ_MSE  \n",
              "0           Z           Z         CX          CZ          CZ  \n",
              "1           Z           Z         BX          BZ          BZ  \n",
              "2           Z           Z         CX          CZ          CZ  \n",
              "3           Z           Z         BX          BZ          BZ  \n",
              "4           X           X         CZ          CX          CX  "
            ],
            "text/html": [
              "\n",
              "  <div id=\"df-cf5dca45-1cee-4ab6-bd8a-47a4c6c314f9\">\n",
              "    <div class=\"colab-df-container\">\n",
              "      <div>\n",
              "<style scoped>\n",
              "    .dataframe tbody tr th:only-of-type {\n",
              "        vertical-align: middle;\n",
              "    }\n",
              "\n",
              "    .dataframe tbody tr th {\n",
              "        vertical-align: top;\n",
              "    }\n",
              "\n",
              "    .dataframe thead th {\n",
              "        text-align: right;\n",
              "    }\n",
              "</style>\n",
              "<table border=\"1\" class=\"dataframe\">\n",
              "  <thead>\n",
              "    <tr style=\"text-align: right;\">\n",
              "      <th></th>\n",
              "      <th>Produtos</th>\n",
              "      <th>ABC</th>\n",
              "      <th>CLUSTER_CV</th>\n",
              "      <th>CLUSTER AIC</th>\n",
              "      <th>CLUSTER MSE</th>\n",
              "      <th>ABC_XYZ_CV</th>\n",
              "      <th>ABC_XYZ_AIC</th>\n",
              "      <th>ABC_XYZ_MSE</th>\n",
              "    </tr>\n",
              "  </thead>\n",
              "  <tbody>\n",
              "    <tr>\n",
              "      <th>0</th>\n",
              "      <td>Bermuda Cargo Algodão Orgânico Light Azul Marinho</td>\n",
              "      <td>C</td>\n",
              "      <td>X</td>\n",
              "      <td>Z</td>\n",
              "      <td>Z</td>\n",
              "      <td>CX</td>\n",
              "      <td>CZ</td>\n",
              "      <td>CZ</td>\n",
              "    </tr>\n",
              "    <tr>\n",
              "      <th>1</th>\n",
              "      <td>Bermuda Cargo Algodão Orgânico Light Cinza Chumbo</td>\n",
              "      <td>B</td>\n",
              "      <td>X</td>\n",
              "      <td>Z</td>\n",
              "      <td>Z</td>\n",
              "      <td>BX</td>\n",
              "      <td>BZ</td>\n",
              "      <td>BZ</td>\n",
              "    </tr>\n",
              "    <tr>\n",
              "      <th>2</th>\n",
              "      <td>Bermuda Cargo Algodão Orgânico Light Preto</td>\n",
              "      <td>C</td>\n",
              "      <td>X</td>\n",
              "      <td>Z</td>\n",
              "      <td>Z</td>\n",
              "      <td>CX</td>\n",
              "      <td>CZ</td>\n",
              "      <td>CZ</td>\n",
              "    </tr>\n",
              "    <tr>\n",
              "      <th>3</th>\n",
              "      <td>Bermuda Cargo Algodão Orgânico Light Verde Oliva</td>\n",
              "      <td>B</td>\n",
              "      <td>X</td>\n",
              "      <td>Z</td>\n",
              "      <td>Z</td>\n",
              "      <td>BX</td>\n",
              "      <td>BZ</td>\n",
              "      <td>BZ</td>\n",
              "    </tr>\n",
              "    <tr>\n",
              "      <th>4</th>\n",
              "      <td>Bermuda Chambray Azul</td>\n",
              "      <td>C</td>\n",
              "      <td>Z</td>\n",
              "      <td>X</td>\n",
              "      <td>X</td>\n",
              "      <td>CZ</td>\n",
              "      <td>CX</td>\n",
              "      <td>CX</td>\n",
              "    </tr>\n",
              "  </tbody>\n",
              "</table>\n",
              "</div>\n",
              "      <button class=\"colab-df-convert\" onclick=\"convertToInteractive('df-cf5dca45-1cee-4ab6-bd8a-47a4c6c314f9')\"\n",
              "              title=\"Convert this dataframe to an interactive table.\"\n",
              "              style=\"display:none;\">\n",
              "        \n",
              "  <svg xmlns=\"http://www.w3.org/2000/svg\" height=\"24px\"viewBox=\"0 0 24 24\"\n",
              "       width=\"24px\">\n",
              "    <path d=\"M0 0h24v24H0V0z\" fill=\"none\"/>\n",
              "    <path d=\"M18.56 5.44l.94 2.06.94-2.06 2.06-.94-2.06-.94-.94-2.06-.94 2.06-2.06.94zm-11 1L8.5 8.5l.94-2.06 2.06-.94-2.06-.94L8.5 2.5l-.94 2.06-2.06.94zm10 10l.94 2.06.94-2.06 2.06-.94-2.06-.94-.94-2.06-.94 2.06-2.06.94z\"/><path d=\"M17.41 7.96l-1.37-1.37c-.4-.4-.92-.59-1.43-.59-.52 0-1.04.2-1.43.59L10.3 9.45l-7.72 7.72c-.78.78-.78 2.05 0 2.83L4 21.41c.39.39.9.59 1.41.59.51 0 1.02-.2 1.41-.59l7.78-7.78 2.81-2.81c.8-.78.8-2.07 0-2.86zM5.41 20L4 18.59l7.72-7.72 1.47 1.35L5.41 20z\"/>\n",
              "  </svg>\n",
              "      </button>\n",
              "      \n",
              "  <style>\n",
              "    .colab-df-container {\n",
              "      display:flex;\n",
              "      flex-wrap:wrap;\n",
              "      gap: 12px;\n",
              "    }\n",
              "\n",
              "    .colab-df-convert {\n",
              "      background-color: #E8F0FE;\n",
              "      border: none;\n",
              "      border-radius: 50%;\n",
              "      cursor: pointer;\n",
              "      display: none;\n",
              "      fill: #1967D2;\n",
              "      height: 32px;\n",
              "      padding: 0 0 0 0;\n",
              "      width: 32px;\n",
              "    }\n",
              "\n",
              "    .colab-df-convert:hover {\n",
              "      background-color: #E2EBFA;\n",
              "      box-shadow: 0px 1px 2px rgba(60, 64, 67, 0.3), 0px 1px 3px 1px rgba(60, 64, 67, 0.15);\n",
              "      fill: #174EA6;\n",
              "    }\n",
              "\n",
              "    [theme=dark] .colab-df-convert {\n",
              "      background-color: #3B4455;\n",
              "      fill: #D2E3FC;\n",
              "    }\n",
              "\n",
              "    [theme=dark] .colab-df-convert:hover {\n",
              "      background-color: #434B5C;\n",
              "      box-shadow: 0px 1px 3px 1px rgba(0, 0, 0, 0.15);\n",
              "      filter: drop-shadow(0px 1px 2px rgba(0, 0, 0, 0.3));\n",
              "      fill: #FFFFFF;\n",
              "    }\n",
              "  </style>\n",
              "\n",
              "      <script>\n",
              "        const buttonEl =\n",
              "          document.querySelector('#df-cf5dca45-1cee-4ab6-bd8a-47a4c6c314f9 button.colab-df-convert');\n",
              "        buttonEl.style.display =\n",
              "          google.colab.kernel.accessAllowed ? 'block' : 'none';\n",
              "\n",
              "        async function convertToInteractive(key) {\n",
              "          const element = document.querySelector('#df-cf5dca45-1cee-4ab6-bd8a-47a4c6c314f9');\n",
              "          const dataTable =\n",
              "            await google.colab.kernel.invokeFunction('convertToInteractive',\n",
              "                                                     [key], {});\n",
              "          if (!dataTable) return;\n",
              "\n",
              "          const docLinkHtml = 'Like what you see? Visit the ' +\n",
              "            '<a target=\"_blank\" href=https://colab.research.google.com/notebooks/data_table.ipynb>data table notebook</a>'\n",
              "            + ' to learn more about interactive tables.';\n",
              "          element.innerHTML = '';\n",
              "          dataTable['output_type'] = 'display_data';\n",
              "          await google.colab.output.renderOutput(dataTable, element);\n",
              "          const docLink = document.createElement('div');\n",
              "          docLink.innerHTML = docLinkHtml;\n",
              "          element.appendChild(docLink);\n",
              "        }\n",
              "      </script>\n",
              "    </div>\n",
              "  </div>\n",
              "  "
            ]
          },
          "metadata": {},
          "execution_count": 13
        }
      ]
    },
    {
      "cell_type": "code",
      "source": [
        "from sklearn.metrics import confusion_matrix\n",
        "\n",
        "display( confusion_matrix(df['ABC_XYZ_CV'], df['ABC_XYZ_AIC']) )\n",
        "display( confusion_matrix(df['ABC_XYZ_CV'], df['ABC_XYZ_MSE']) )\n",
        "display( confusion_matrix(df['ABC_XYZ_AIC'], df['ABC_XYZ_MSE']) )"
      ],
      "metadata": {
        "colab": {
          "base_uri": "https://localhost:8080/",
          "height": 486
        },
        "id": "4Edx9IVR1rec",
        "outputId": "1c9ff2dc-51af-40b3-d9f4-67603b410c93"
      },
      "execution_count": 17,
      "outputs": [
        {
          "output_type": "display_data",
          "data": {
            "text/plain": [
              "array([[ 0,  1, 19,  0,  0,  0,  0,  0,  0],\n",
              "       [ 6,  6, 37,  0,  0,  0,  0,  0,  0],\n",
              "       [ 2,  8, 21,  0,  0,  0,  0,  0,  0],\n",
              "       [ 0,  0,  0,  0,  2, 50,  0,  0,  0],\n",
              "       [ 0,  0,  0, 10, 12, 34,  0,  0,  0],\n",
              "       [ 0,  0,  0,  2, 19, 14,  0,  0,  0],\n",
              "       [ 0,  0,  0,  0,  0,  0,  0,  0, 31],\n",
              "       [ 0,  0,  0,  0,  0,  0,  2, 11, 34],\n",
              "       [ 0,  0,  0,  0,  0,  0, 57, 61, 65]])"
            ]
          },
          "metadata": {}
        },
        {
          "output_type": "display_data",
          "data": {
            "text/plain": [
              "array([[ 0,  1, 19,  0,  0,  0,  0,  0,  0],\n",
              "       [ 0,  3, 46,  0,  0,  0,  0,  0,  0],\n",
              "       [ 0,  5, 26,  0,  0,  0,  0,  0,  0],\n",
              "       [ 0,  0,  0,  0,  8, 44,  0,  0,  0],\n",
              "       [ 0,  0,  0,  7, 18, 31,  0,  0,  0],\n",
              "       [ 0,  0,  0,  1, 13, 21,  0,  0,  0],\n",
              "       [ 0,  0,  0,  0,  0,  0,  1,  0, 30],\n",
              "       [ 0,  0,  0,  0,  0,  0,  6, 10, 31],\n",
              "       [ 0,  0,  0,  0,  0,  0, 65, 61, 57]])"
            ]
          },
          "metadata": {}
        },
        {
          "output_type": "display_data",
          "data": {
            "text/plain": [
              "array([[ 0,  0,  8,  0,  0,  0,  0,  0,  0],\n",
              "       [ 0,  2, 13,  0,  0,  0,  0,  0,  0],\n",
              "       [ 0,  7, 70,  0,  0,  0,  0,  0,  0],\n",
              "       [ 0,  0,  0,  1,  9,  2,  0,  0,  0],\n",
              "       [ 0,  0,  0,  2,  9, 22,  0,  0,  0],\n",
              "       [ 0,  0,  0,  5, 21, 72,  0,  0,  0],\n",
              "       [ 0,  0,  0,  0,  0,  0, 38, 21,  0],\n",
              "       [ 0,  0,  0,  0,  0,  0, 12, 38, 22],\n",
              "       [ 0,  0,  0,  0,  0,  0, 22, 12, 96]])"
            ]
          },
          "metadata": {}
        }
      ]
    },
    {
      "cell_type": "code",
      "source": [
        "fig, ax = plt.subplots(1,3,figsize=(15,5))\n",
        "\n",
        "ticklabels = ['AX','AY','AZ','BX','BY','BZ','CX','CY','CZ']\n",
        "ticks = np.arange(0.5, 10, 1)\n",
        "\n",
        "sns.heatmap( confusion_matrix(df['ABC_XYZ_CV'], df['ABC_XYZ_AIC']) , cbar=None , annot=True, cmap=\"gray_r\", ax=ax[0], yticklabels=ticklabels, xticklabels=ticklabels)\n",
        "ax[0].set_yticks(ticks)\n",
        "ax[0].set_xticks(ticks)\n",
        "ax[0].xaxis.tick_top()\n",
        "ax[0].set_title('ABCXYZ: CV $\\\\times$ AIC, ' + str(np.round( np.trace(np.asarray(confusion_matrix(df['ABC_XYZ_CV'], df['ABC_XYZ_AIC']))) / m.sum() ,2 )),\n",
        "                fontweight=\"bold\",fontsize=12)\n",
        "\n",
        "sns.heatmap( confusion_matrix(df['ABC_XYZ_CV'], df['ABC_XYZ_MSE']) , cbar=None , annot=True, cmap=\"gray_r\", ax=ax[1], yticklabels=ticklabels, xticklabels=ticklabels)\n",
        "ax[1].set_yticks(ticks)\n",
        "ax[1].set_xticks(ticks)\n",
        "ax[1].xaxis.tick_top()\n",
        "ax[1].set_title('ABCXYZ: CV $\\\\times$ MSE, ' + str(np.round( np.trace(np.asarray(confusion_matrix(df['ABC_XYZ_CV'], df['ABC_XYZ_MSE']))) / m.sum() ,2 )),\n",
        "                fontweight=\"bold\",fontsize=12)\n",
        "\n",
        "sns.heatmap( confusion_matrix(df['ABC_XYZ_AIC'], df['ABC_XYZ_MSE']) , cbar=None , annot=True, cmap=\"gray_r\", ax=ax[2], yticklabels=ticklabels, xticklabels=ticklabels)\n",
        "ax[2].set_yticks(ticks)\n",
        "ax[2].set_xticks(ticks)\n",
        "ax[2].xaxis.tick_top()\n",
        "ax[2].set_title('ABCXYZ: AIC $\\\\times$ MSE, ' + str(np.round( np.trace(np.asarray(confusion_matrix(df['ABC_XYZ_AIC'], df['ABC_XYZ_MSE']))) / m.sum() ,2 )),\n",
        "                fontweight=\"bold\",fontsize=12)\n",
        "\n",
        "plt.suptitle('Matriz de Confusão dos Diferentes Classificadores',y=1.05,fontweight=\"bold\",fontsize=16)\n",
        "plt.tight_layout()\n",
        "plt.show()"
      ],
      "metadata": {
        "colab": {
          "base_uri": "https://localhost:8080/",
          "height": 398
        },
        "id": "JjeEI-Y73Q4x",
        "outputId": "8d333fd7-c4cf-4265-8200-c68f6baaa350"
      },
      "execution_count": 93,
      "outputs": [
        {
          "output_type": "display_data",
          "data": {
            "text/plain": [
              "<Figure size 1080x360 with 3 Axes>"
            ],
            "image/png": "[encoded data removed]"
          },
          "metadata": {
            "needs_background": "light"
          }
        }
      ]
    },
    {
      "cell_type": "code",
      "source": [
        "fig.savefig('confusion_matrix_abcxyz.png')\n",
        "from google.colab import files\n",
        "\n",
        "files.download('confusion_matrix_abcxyz.png')\n"
      ],
      "metadata": {
        "colab": {
          "base_uri": "https://localhost:8080/",
          "height": 17
        },
        "id": "cTpcvCLeBm6r",
        "outputId": "ff6a8d28-7dc3-4b4f-eb6e-1482e469f509"
      },
      "execution_count": 94,
      "outputs": [
        {
          "output_type": "display_data",
          "data": {
            "text/plain": [
              "<IPython.core.display.Javascript object>"
            ],
            "application/javascript": [
              "\n",
              "    async function download(id, filename, size) {\n",
              "      if (!google.colab.kernel.accessAllowed) {\n",
              "        return;\n",
              "      }\n",
              "      const div = document.createElement('div');\n",
              "      const label = document.createElement('label');\n",
              "      label.textContent = `Downloading \"${filename}\": `;\n",
              "      div.appendChild(label);\n",
              "      const progress = document.createElement('progress');\n",
              "      progress.max = size;\n",
              "      div.appendChild(progress);\n",
              "      document.body.appendChild(div);\n",
              "\n",
              "      const buffers = [];\n",
              "      let downloaded = 0;\n",
              "\n",
              "      const channel = await google.colab.kernel.comms.open(id);\n",
              "      // Send a message to notify the kernel that we're ready.\n",
              "      channel.send({})\n",
              "\n",
              "      for await (const message of channel.messages) {\n",
              "        // Send a message to notify the kernel that we're ready.\n",
              "        channel.send({})\n",
              "        if (message.buffers) {\n",
              "          for (const buffer of message.buffers) {\n",
              "            buffers.push(buffer);\n",
              "            downloaded += buffer.byteLength;\n",
              "            progress.value = downloaded;\n",
              "          }\n",
              "        }\n",
              "      }\n",
              "      const blob = new Blob(buffers, {type: 'application/binary'});\n",
              "      const a = document.createElement('a');\n",
              "      a.href = window.URL.createObjectURL(blob);\n",
              "      a.download = filename;\n",
              "      div.appendChild(a);\n",
              "      a.click();\n",
              "      div.remove();\n",
              "    }\n",
              "  "
            ]
          },
          "metadata": {}
        },
        {
          "output_type": "display_data",
          "data": {
            "text/plain": [
              "<IPython.core.display.Javascript object>"
            ],
            "application/javascript": [
              "download(\"download_b8afa9a9-e263-4de5-a797-5d3839eec822\", \"confusion_matrix_abcxyz.png\", 29402)"
            ]
          },
          "metadata": {}
        }
      ]
    }
  ]
}