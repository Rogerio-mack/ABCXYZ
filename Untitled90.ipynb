{
  "nbformat": 4,
  "nbformat_minor": 0,
  "metadata": {
    "colab": {
      "provenance": [],
      "authorship_tag": "ABX9TyPM/TPhB8q5MFCoxulmfeom",
      "include_colab_link": true
    },
    "kernelspec": {
      "name": "python3",
      "display_name": "Python 3"
    },
    "language_info": {
      "name": "python"
    }
  },
  "cells": [
    {
      "cell_type": "markdown",
      "metadata": {
        "id": "view-in-github",
        "colab_type": "text"
      },
      "source": [
        "<a href=\"https://colab.research.google.com/github/Rogerio-mack/ABCXYZ/blob/main/Untitled90.ipynb\" target=\"_parent\"><img src=\"https://colab.research.google.com/assets/colab-badge.svg\" alt=\"Open In Colab\"/></a>"
      ]
    },
    {
      "cell_type": "code",
      "source": [
        "import pandas as pd\n",
        "import numpy as np\n",
        "import matplotlib.pyplot as plt\n",
        "%matplotlib inline\n",
        "import seaborn as sns"
      ],
      "metadata": {
        "id": "W7TABrcHsjMJ"
      },
      "execution_count": null,
      "outputs": []
    },
    {
      "cell_type": "markdown",
      "source": [
        "# **Case: JetRail**\n",
        "\n",
        "Este é um cenário fictício de dados. Uma empresa de tecnologia erroviária, **JetRail**, desenvolveu uma tecnologia de propulsão para trens mais rápidos. O O investimento nessa tecnologia, entretant,  só parece viável houver um mínimo de um milhão de passageiros para os próximos dezoito meses. É necessário, então,avaliarmos a previsão do número de passageiros."
      ],
      "metadata": {
        "id": "a31_uGBZtdrW"
      }
    },
    {
      "cell_type": "code",
      "source": [
        "df = pd.read_csv('https://github.com/Introducao-Series-Temporais-em-Python/minicurso-SBC-SBSI-2024/raw/main/data/Train%20data.csv')\n",
        "\n",
        "display(df.head())\n",
        "print()\n",
        "df.shape"
      ],
      "metadata": {
        "id": "f2h7Tt6jsoO1"
      },
      "execution_count": null,
      "outputs": []
    },
    {
      "cell_type": "markdown",
      "source": [
        "# Ex1.\n",
        "\n",
        "Inspecione os dados e faça um gráfico da série de dados."
      ],
      "metadata": {
        "id": "bPbmD5wasxUu"
      }
    },
    {
      "cell_type": "code",
      "source": [
        "df.dtypes"
      ],
      "metadata": {
        "id": "MPOqsHSds3lm"
      },
      "execution_count": null,
      "outputs": []
    },
    {
      "cell_type": "code",
      "source": [
        "df.index = pd.to_datetime(df['Datetime'],dayfirst=True) # or ,format='%d-%m-%Y %H:%M')\n",
        "df = df.drop(columns=['ID','Datetime'])\n",
        "df.head()"
      ],
      "metadata": {
        "id": "bvgF4H8vs-ut"
      },
      "execution_count": null,
      "outputs": []
    },
    {
      "cell_type": "code",
      "source": [
        "plt.figure(figsize=(12, 4))\n",
        "\n",
        "plt.plot(df.index,df.Count)\n",
        "plt.title ('Passageiros Diários\\n de ' + str(df.index.min()) + ' até ' + str(df.index.max()))\n",
        "plt.xlabel('Time')\n",
        "plt.ylabel ('Passageiros')\n",
        "\n",
        "plt.show()\n"
      ],
      "metadata": {
        "id": "taB9J3bCtOP1"
      },
      "execution_count": null,
      "outputs": []
    },
    {
      "cell_type": "markdown",
      "source": [
        "# Ex2.\n",
        "\n",
        "Verifique a presença de sazonalidades. Observe através de gráficos os valores médios agregados por mês, dia, hora e dia da semana (`weekday`)."
      ],
      "metadata": {
        "id": "C0LRODvrycDC"
      }
    },
    {
      "cell_type": "code",
      "source": [
        "plt.figure(figsize=(12, 3.5))\n",
        "\n",
        "plt.subplot(1,4,1)\n",
        "df.groupby(df.index.month)['Count'].mean().plot(kind='bar')\n",
        "plt.title('Por Mês')\n",
        "plt.xlabel('Mês')\n",
        "plt.ylabel ('Passageiros')\n",
        "plt.xticks(fontsize=8)\n",
        "\n",
        "plt.subplot(1,4,2)\n",
        "df.groupby(df.index.day)['Count'].mean().plot(kind='bar')\n",
        "plt.title('Por Dia')\n",
        "plt.xlabel('Dia')\n",
        "plt.xticks(fontsize=8)\n",
        "\n",
        "plt.subplot(1,4,3)\n",
        "df.groupby(df.index.hour)['Count'].mean().plot(kind='bar')\n",
        "plt.title('Por Hora')\n",
        "plt.xlabel('Hora')\n",
        "plt.xticks(fontsize=8)\n",
        "\n",
        "plt.subplot(1,4,4)\n",
        "df.groupby(df.index.weekday)['Count'].mean().plot(kind='bar')\n",
        "plt.title('Por Dia da Semana')\n",
        "plt.xlabel('Dia da Semana')\n",
        "plt.xticks(fontsize=8)\n",
        "\n",
        "plt.tight_layout()\n",
        "plt.show()\n",
        "\n"
      ],
      "metadata": {
        "id": "cXa0cXwzxX9H"
      },
      "execution_count": null,
      "outputs": []
    },
    {
      "cell_type": "code",
      "source": [
        "from scipy import signal\n",
        "fig, ax = plt.subplots(figsize=(7,4))\n",
        "\n",
        "frequencies, spectrum = signal.periodogram(df['Count'],fs=len(df))\n",
        "\n",
        "ax.step(frequencies, spectrum)\n",
        "\n",
        "ax.set_title('Periodograma - Frequência $f$')\n",
        "ax.set_xlabel('frequency [Hz]')\n",
        "ax.set_ylabel('PSD [V**2/Hz]')\n",
        "\n",
        "dfft = pd.DataFrame()\n",
        "dfft['frequencies'], dfft['spectrum'] = frequencies, spectrum\n",
        "dfft['periods'] = len(df) / dfft['frequencies']\n",
        "display(dfft.sort_values('spectrum',ascending=False).head())\n",
        "\n",
        "plt.tight_layout()\n",
        "plt.show()"
      ],
      "metadata": {
        "id": "sLyBruBSynZX"
      },
      "execution_count": null,
      "outputs": []
    },
    {
      "cell_type": "markdown",
      "source": [
        "# Ex3.\n",
        "\n",
        "Empregue a função `resample()` (pacote `pandas`) para reconstruir a série para a média dos valores diários. Exiba os valores em um gráfico sobre os valores originais."
      ],
      "metadata": {
        "id": "swq04nNAhDEZ"
      }
    },
    {
      "cell_type": "code",
      "source": [
        "df_diario = df.resample('D').mean()\n",
        "\n",
        "plt.figure(figsize=(12, 4))\n",
        "\n",
        "plt.plot(df.index,df.Count,label='Série original',alpha=0.5)\n",
        "plt.plot(df_diario.index,df_diario.Count,label='Série mensal')\n",
        "plt.title ('Passageiros Diários\\n de ' + str(df.index.min()) + ' até ' + str(df.index.max()))\n",
        "plt.xlabel('Time')\n",
        "plt.ylabel ('Passageiros')\n",
        "plt.legend()\n",
        "\n",
        "plt.show()\n"
      ],
      "metadata": {
        "id": "rp1e1qClhV4p"
      },
      "execution_count": null,
      "outputs": []
    },
    {
      "cell_type": "markdown",
      "source": [
        "# Ex4.\n",
        "\n",
        "Empregue a função `seasonal_decompose`(pacote `statsmodels`) para decompor a série dos valores diários e mostre a distribuição dos resíduos."
      ],
      "metadata": {
        "id": "yyYo7ERYiaO5"
      }
    },
    {
      "cell_type": "code",
      "source": [
        "from statsmodels.tsa.seasonal import seasonal_decompose\n",
        "import scipy.stats as stats\n",
        "\n",
        "result = seasonal_decompose(df_diario['Count'])\n",
        "\n",
        "fig = result.plot()\n",
        "fig.set_size_inches((7, 8))\n",
        "plt.title('Decomposição da Série Diária')\n",
        "plt.show()\n",
        "\n",
        "\n",
        "fig, ax = plt.subplots(1,2,figsize=(12, 4))\n",
        "\n",
        "sns.kdeplot(result.resid,ax=ax[0])\n",
        "ax[0].set_title('Distribuição dos Resíduos')\n",
        "\n",
        "stats.probplot(result.resid.dropna(), dist=\"norm\", plot=ax[1])\n",
        "ax[1].set_title('QQ Plot dos Resíduos')\n",
        "\n",
        "plt.tight_layout()\n",
        "plt.show()\n",
        "\n"
      ],
      "metadata": {
        "id": "qBp1Q0OXf87x"
      },
      "execution_count": null,
      "outputs": []
    }
  ]
}