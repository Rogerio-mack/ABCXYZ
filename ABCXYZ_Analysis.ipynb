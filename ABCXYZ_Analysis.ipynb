{
  "nbformat": 4,
  "nbformat_minor": 0,
  "metadata": {
    "colab": {
      "name": "ABCXYZ_Analysis.ipynb",
      "provenance": [],
      "include_colab_link": true
    },
    "kernelspec": {
      "name": "python3",
      "display_name": "Python 3"
    }
  },
  "cells": [
    {
      "cell_type": "markdown",
      "metadata": {
        "id": "view-in-github",
        "colab_type": "text"
      },
      "source": [
        "<a href=\"https://colab.research.google.com/github/Rogerio-mack/ABCXYZ/blob/main/ABCXYZ_Analysis.ipynb\" target=\"_parent\"><img src=\"https://colab.research.google.com/assets/colab-badge.svg\" alt=\"Open In Colab\"/></a>"
      ]
    },
    {
      "cell_type": "markdown",
      "metadata": {
        "id": "pqEhMdFQO3A-"
      },
      "source": [
        "<head>\n",
        "  <meta name=\"author\" content=\"Rogério de Oliveira\">\n",
        "  <meta institution=\"author\" content=\"Universidade Presbiteriana Mackenzie\">\n",
        "</head>\n",
        "\n",
        "<img src=\"http://meusite.mackenzie.br/rogerio/mackenzie_logo/UPM.2_horizontal_vermelho.jpg\" width=300, align=\"right\"> \n",
        "<!-- <h1 align=left><font size = 6, style=\"color:rgb(200,0,0)\"> optional title </font></h1> -->\n",
        "\n",
        "<br>\n",
        "<br>\n",
        "<br>\n",
        "<br>\n",
        "<br>\n",
        "\n",
        "# **Controle de Estoques X Predição de Demanda. Curva ABC-XYZ.** \n",
        "---"
      ]
    },
    {
      "cell_type": "markdown",
      "metadata": {
        "id": "dFM0qYhsS2Sk"
      },
      "source": [
        "A Curva ABC, é bastante sensível à métrica de importância que utilizamos, ao número de classes e pontos de corte empregados, e ao número de itens considerados. Não existe uma *melhor solução*, o quê sempre irá depender do contexto de decisão. Além disso a análise ABC fornece análise instantânea no tempo, sem mostrar nenhuma dinâmica, como por exemplo considerar se um item está ganhando ou perdendo importância. A Análise ABC-XYZ permite dar um pouco mais de dinâmica à essa análise considerando, por exemplo a **previsibilidade da demanda**.\n",
        "\n",
        "# 1. Análise XYZ\n",
        "\n",
        "A análise XYZ, como um segundo critério de classificação, pode, por exemplo,  concentra-se em quão difícil é de prever a demanda de um item. X é a classe com os itens mais fáceis ou maior certeza de predição e Z a classe com os mais difíceis, ou itens com maior incerteza. A realização da análise XYZ segue a mesma lógica do ABC e a questão fica em como definir uma métrica de previsibilidade. \n",
        "\n",
        "Textos  didáticos têm apoiado o uso do **coeficiente de variação** que é uma versão em escala do desvio padrão das vendas históricas. Um caso simples pode mostrar os problemas dessa abordagem que, realmente não trata diretamente da previsibilidade do item. Considere um item que tem vendas mais ou menos iguais com muita variabilidade e um item que tem vendas sazonais sem qualquer aleatoriedade. O primeiro é difícil de prever, enquanto o segundo empregar o período anterior para uma previsão exata. \n",
        "\n",
        "![image](https://kourentzes.com/forecasting/wp-content/uploads/2016/10/abc_fig2-660x330.png)\n",
        "\n",
        "A abordagem do coeficiente de variação, entretanto, parece ser um modo prático nos casos em que os itens tem um comportamento semelhante e, portanto, o coeficiente pode representar uma diferenção relativa da previsibilidade dos itens. \n",
        "\n",
        "Uma vez obtida essa classificação ABC (importância) $\\times$ XYZ (previsibilidade) podemos então classificar os itens em nove categorias:\n",
        "\n",
        "![imagem](https://kourentzes.com/forecasting/wp-content/uploads/2016/10/abc_fig4-300x300.png)\n",
        "\n",
        "A classes dos quatro cantos da matriz indicam por exemplo:\n",
        "\n",
        "* AX: Itens muito importantes, mas relativamente fáceis de prever;\n",
        "* CX: Itens relativamente sem importância que são relativamente fáceis de prever;\n",
        "* AZ: itens muito importantes que são difíceis de prever;\n",
        "* CZ: Itens relativamente sem importância que são difíceis de prever.\n",
        "\n",
        "Na prática, então, efetuaremos a análise em 3 passos:\n",
        "\n",
        "1. Análise ABC - Segmentação de Importância\n",
        "2. Análise XYZ - Segmentação de Previsibilidade\n",
        "3. Análise ABC-XYZ - Segmentação de Importância e de Previsibilidade \n",
        "\n",
        "Uma medida melhor ainda pode ser obtida empregando erros de previsão, que estariam mais diretamente relacionados às partes não previsíveis da série. Isso coloca, entretanto, uma série de questões diferentes como qual método de predição empregar, a métrica de erro etc.  \n",
        "\n",
        "**Neste estudo, para implementar um critério de previsibilidade nas categorias XYZ, empregaremos tanto o coeficiente de variação como também em um método de previsão, empregando modelos estatísticos consagrados como o ARIMA ou modelos de Aprendizado de Máquina, buscando uma melhor prática para o nosso problema**. \n",
        "\n",
        "\n",
        "\n",
        "\n",
        "\n"
      ]
    },
    {
      "cell_type": "markdown",
      "metadata": {
        "id": "227UYLk078VA"
      },
      "source": [
        "## Caracterização das Classes ABCXYZ por importância e previsibilidade de demanda\n",
        "\n",
        "Essa segmentação dos estoques permite você aplicar políticas diferentes de gerenciamento no seu planejamento industrial para cada uma das classes.\n",
        "\n",
        "\n",
        "<br>\n",
        "\n",
        "<img src=\"http://meusite.mackenzie.br/rogerio/data_load/classesABCXYZa.png\" width=500, align=\"right\"> \n",
        "\n",
        "<br>\n",
        "\n"
      ]
    },
    {
      "cell_type": "markdown",
      "metadata": {
        "id": "IiWEScmT8yOO"
      },
      "source": [
        "## Práticas de Políticas de Estoque para as diferentes Classes ABCXYZ \n",
        "\n",
        "Abaixo diferentes políticas que podem ser aplicadas às classes de estoque.\n",
        "\n",
        "<br>\n",
        "\n",
        "<img src=\"http://meusite.mackenzie.br/rogerio/data_load/classesABCXYZb.png\" width=500, align=\"right\"> \n",
        "\n",
        "\n"
      ]
    },
    {
      "cell_type": "markdown",
      "metadata": {
        "id": "WAieaZ4-9yvP"
      },
      "source": [
        "\n",
        "Referência: [CGMA](https://www.cgma.org/resources/tools/cost-transformation-model/abc-xyz-inventory-management.html)"
      ]
    }
  ]
}