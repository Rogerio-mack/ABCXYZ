{
  "nbformat": 4,
  "nbformat_minor": 0,
  "metadata": {
    "colab": {
      "provenance": [],
      "collapsed_sections": [],
      "include_colab_link": true
    },
    "kernelspec": {
      "name": "python3",
      "display_name": "Python 3"
    }
  },
  "cells": [
    {
      "cell_type": "markdown",
      "metadata": {
        "id": "view-in-github",
        "colab_type": "text"
      },
      "source": [
        "<a href=\"https://colab.research.google.com/github/Rogerio-mack/ABCXYZ/blob/main/Oriba_ABCXYZ_prophet.ipynb\" target=\"_parent\"><img src=\"https://colab.research.google.com/assets/colab-badge.svg\" alt=\"Open In Colab\"/></a>"
      ]
    },
    {
      "cell_type": "markdown",
      "metadata": {
        "id": "pqEhMdFQO3A-"
      },
      "source": [
        "<head>\n",
        "  <meta name=\"author\" content=\"Rogério de Oliveira\">\n",
        "  <meta institution=\"author\" content=\"Universidade Presbiteriana Mackenzie\">\n",
        "</head>\n",
        "\n",
        "<img src=\"http://meusite.mackenzie.br/rogerio/mackenzie_logo/UPM.2_horizontal_vermelho.jpg\" width=300, align=\"right\"> \n",
        "<!-- <h1 align=left><font size = 6, style=\"color:rgb(200,0,0)\"> optional title </font></h1> -->\n",
        "\n",
        "<br>\n",
        "<br>\n",
        "<br>\n",
        "<br>\n",
        "<br>\n",
        "\n",
        "# Prophet Forecast\n",
        "---"
      ]
    },
    {
      "cell_type": "markdown",
      "source": [
        "# Important links\n",
        "\n",
        "Homepage: https://facebookresearch.github.io/Kats/\n",
        "\n",
        "Kats Python package: https://pypi.org/project/kats/\n",
        "\n",
        "Facebook Engineering Blog Post: https://engineering.fb.com/2021/06/21/open-source/kats/\n",
        "\n",
        "Source code repository: https://github.com/facebookresearch/kats\n",
        "\n",
        "Contributing: https://github.com/facebookresearch/Kats/blob/master/CONTRIBUTING.md\n",
        "\n",
        "Tutorials: https://github.com/facebookresearch/Kats/tree/master/tutorials\n"
      ],
      "metadata": {
        "id": "NUZeow2WZ6zj"
      }
    },
    {
      "cell_type": "code",
      "metadata": {
        "id": "tAhw8WnbzS7u"
      },
      "source": [
        "import pandas as pd\n",
        "import numpy as np\n",
        "import matplotlib.pyplot as plt\n",
        "%matplotlib inline\n",
        "import seaborn as sns\n",
        "import warnings\n",
        "warnings.filterwarnings(\"ignore\")\n"
      ],
      "execution_count": 1,
      "outputs": []
    },
    {
      "cell_type": "code",
      "source": [
        "%%capture\n",
        "!pip install kats"
      ],
      "metadata": {
        "id": "hNov4l1Jv6WQ"
      },
      "execution_count": 2,
      "outputs": []
    },
    {
      "cell_type": "code",
      "source": [
        "#@markdown `tspplot()`\n",
        "def tspplot(ts=None,label=None,title=None,ax=None,linestyle='solid',alpha=1,lw=1,nr_xticks=None,nr_yticks=None):\n",
        "  \n",
        "  import matplotlib.ticker as ticker\n",
        "\n",
        "  if ax is None:\n",
        "    fig, ax = plt.subplots()\n",
        "  \n",
        "  if label is not None:\n",
        "    ax.plot(ts, label=label, linestyle=linestyle, lw=lw)\n",
        "  else:\n",
        "    ax.plot(ts, linestyle=linestyle,lw=lw,alpha=alpha)\n",
        "\n",
        "  if title is not None:\n",
        "    ax.set_title(title)\n",
        "\n",
        "  if nr_xticks is not None:\n",
        "    ax.xaxis.set_major_locator(ticker.MaxNLocator(nr_xticks))\n",
        "\n",
        "  if nr_yticks is not None:\n",
        "    ax.yaxis.set_major_locator(ticker.MaxNLocator(nr_yticks))  \n",
        "  \n",
        "  if label is not None:\n",
        "    plt.legend()\n",
        "\n",
        "  plt.tight_layout()\n",
        "\n",
        "  return\n",
        "\n"
      ],
      "metadata": {
        "id": "jAYYD8BF1gDj",
        "cellView": "form"
      },
      "execution_count": 3,
      "outputs": []
    },
    {
      "cell_type": "code",
      "source": [
        "#@markdown `tspdisplay()`\n",
        "class tspdisplay(object):\n",
        "    # Adaptado de https://jakevdp.github.io/PythonDataScienceHandbook/index.html\n",
        "    \"\"\"Display HTML representation of multiple objects\"\"\"\n",
        "    template = \"\"\"<div style=\"float: left; padding: 10px;\">\n",
        "    <hr>\n",
        "    <h3 style='font-family:\"Courier New\", Courier, monospace'>{0}</h3><hr>{1}\n",
        "    </div>\"\"\"\n",
        "    def __init__(self, *args):\n",
        "        self.args = args\n",
        "        \n",
        "    def _repr_html_(self):\n",
        "        return '\\n'.join(self.template.format(a, eval(a + '.head()')._repr_html_())\n",
        "                         for a in self.args)\n",
        "    \n",
        "    def __repr__(self):\n",
        "        return '\\n\\n'.join(a + '\\n' + repr(eval(a + '.head()'))\n",
        "                           for a in self.args)"
      ],
      "metadata": {
        "cellView": "form",
        "id": "niOc433Ebi_8"
      },
      "execution_count": 4,
      "outputs": []
    },
    {
      "cell_type": "code",
      "source": [
        "from kats.models.prophet import ProphetModel, ProphetParams\n",
        "from kats.consts import TimeSeriesData, TimeSeriesIterator\n",
        "from kats.detectors.cusum_detection import CUSUMDetector\n",
        "  \n",
        "def kats_prophet(df,steps_ahead=30,freq=\"MS\",model='additive'):\n",
        "\n",
        "  ts = TimeSeriesData(df)\n",
        "\n",
        "  # import the param and model classes for Prophet model\n",
        "  from kats.models.prophet import ProphetModel, ProphetParams\n",
        "\n",
        "  # create a model param instance\n",
        "  params = ProphetParams(seasonality_mode=model) # additive mode gives worse results\n",
        "\n",
        "  # create a prophet model instance\n",
        "  m = ProphetModel(ts, params)\n",
        "\n",
        "  # fit model simply by calling m.fit()\n",
        "  m.fit()\n",
        "\n",
        "  # make prediction for next steps_ahead months\n",
        "  pred = m.predict(steps=steps_ahead, freq=freq)\n",
        "\n",
        "  return m, pred"
      ],
      "metadata": {
        "id": "8gT0b4Kvcj6p"
      },
      "execution_count": 9,
      "outputs": []
    },
    {
      "cell_type": "markdown",
      "metadata": {
        "id": "Dh5c4DZ3UZkG"
      },
      "source": [
        "# Aquisição dos Dados\n",
        "\n"
      ]
    },
    {
      "cell_type": "code",
      "metadata": {
        "id": "HCUDu-urQKBa",
        "outputId": "11937393-964f-4649-f3a6-8ca560e25f1b",
        "colab": {
          "base_uri": "https://localhost:8080/",
          "height": 490
        }
      },
      "source": [
        "df = pd.read_csv('https://github.com/Rogerio-mack/ABCXYZ/raw/main/oriba_base_reshaped.csv',index_col=0)\n",
        "df.index = pd.to_datetime(df.index)\n",
        "df.head()"
      ],
      "execution_count": 5,
      "outputs": [
        {
          "output_type": "execute_result",
          "data": {
            "text/plain": [
              "            Bermuda Cargo Algodão Orgânico Light Azul Marinho  \\\n",
              "2018-01-31                                                NaN   \n",
              "2018-02-28                                                NaN   \n",
              "2018-03-31                                                NaN   \n",
              "2018-04-30                                                NaN   \n",
              "2018-05-31                                                NaN   \n",
              "\n",
              "            Bermuda Cargo Algodão Orgânico Light Cinza Chumbo  \\\n",
              "2018-01-31                                                NaN   \n",
              "2018-02-28                                                NaN   \n",
              "2018-03-31                                                NaN   \n",
              "2018-04-30                                                NaN   \n",
              "2018-05-31                                                NaN   \n",
              "\n",
              "            Bermuda Cargo Algodão Orgânico Light Preto  \\\n",
              "2018-01-31                                         NaN   \n",
              "2018-02-28                                         NaN   \n",
              "2018-03-31                                         NaN   \n",
              "2018-04-30                                         NaN   \n",
              "2018-05-31                                         NaN   \n",
              "\n",
              "            Bermuda Cargo Algodão Orgânico Light Verde Oliva  \\\n",
              "2018-01-31                                               NaN   \n",
              "2018-02-28                                               NaN   \n",
              "2018-03-31                                               NaN   \n",
              "2018-04-30                                               NaN   \n",
              "2018-05-31                                               NaN   \n",
              "\n",
              "            Bermuda Chambray Azul  Bermuda Chambray Preta  \\\n",
              "2018-01-31                    NaN                     NaN   \n",
              "2018-02-28                    NaN                     NaN   \n",
              "2018-03-31                    NaN                     NaN   \n",
              "2018-04-30                    NaN                     NaN   \n",
              "2018-05-31                    NaN                     NaN   \n",
              "\n",
              "            Bermuda Chambray Vermelha  \\\n",
              "2018-01-31                        NaN   \n",
              "2018-02-28                        NaN   \n",
              "2018-03-31                        NaN   \n",
              "2018-04-30                        NaN   \n",
              "2018-05-31                        NaN   \n",
              "\n",
              "            Bermuda Chino Algodão Orgânico Relax Azul Marinho  \\\n",
              "2018-01-31                                                NaN   \n",
              "2018-02-28                                                NaN   \n",
              "2018-03-31                                                NaN   \n",
              "2018-04-30                                                NaN   \n",
              "2018-05-31                                                NaN   \n",
              "\n",
              "            Bermuda Chino Algodão Orgânico Relax Azul Médio  \\\n",
              "2018-01-31                                              NaN   \n",
              "2018-02-28                                              NaN   \n",
              "2018-03-31                                              NaN   \n",
              "2018-04-30                                              NaN   \n",
              "2018-05-31                                              NaN   \n",
              "\n",
              "            Bermuda Chino Algodão Orgânico Relax Off White  ...  \\\n",
              "2018-01-31                                             NaN  ...   \n",
              "2018-02-28                                             NaN  ...   \n",
              "2018-03-31                                             NaN  ...   \n",
              "2018-04-30                                             NaN  ...   \n",
              "2018-05-31                                             NaN  ...   \n",
              "\n",
              "            Suéter Gola V Azul Marinho  Suéter Gola V Cinza  \\\n",
              "2018-01-31                         NaN                  1.0   \n",
              "2018-02-28                         1.0                  1.0   \n",
              "2018-03-31                         2.0                  4.0   \n",
              "2018-04-30                         3.0                  2.0   \n",
              "2018-05-31                         2.0                  1.0   \n",
              "\n",
              "            Suéter Gola V Preta  \\\n",
              "2018-01-31                  1.0   \n",
              "2018-02-28                  0.0   \n",
              "2018-03-31                  1.0   \n",
              "2018-04-30                  0.0   \n",
              "2018-05-31                  3.0   \n",
              "\n",
              "            Track Jacket OldSchool ORIBA+PACE Azul Marinho  \\\n",
              "2018-01-31                                             NaN   \n",
              "2018-02-28                                             NaN   \n",
              "2018-03-31                                             NaN   \n",
              "2018-04-30                                             NaN   \n",
              "2018-05-31                                             NaN   \n",
              "\n",
              "            Track Jacket OldSchool ORIBA+PACE Preto  \\\n",
              "2018-01-31                                      NaN   \n",
              "2018-02-28                                      NaN   \n",
              "2018-03-31                                      NaN   \n",
              "2018-04-30                                      NaN   \n",
              "2018-05-31                                      NaN   \n",
              "\n",
              "            Track Pants OldSchool ORIBA+PACE Azul Marinho  \\\n",
              "2018-01-31                                            NaN   \n",
              "2018-02-28                                            NaN   \n",
              "2018-03-31                                            NaN   \n",
              "2018-04-30                                            NaN   \n",
              "2018-05-31                                            NaN   \n",
              "\n",
              "            Track Pants OldSchool ORIBA+PACE Preto  \\\n",
              "2018-01-31                                     NaN   \n",
              "2018-02-28                                     NaN   \n",
              "2018-03-31                                     NaN   \n",
              "2018-04-30                                     NaN   \n",
              "2018-05-31                                     NaN   \n",
              "\n",
              "            Tricot Crewneck Patch ORIBA+PACE Preto  \\\n",
              "2018-01-31                                     NaN   \n",
              "2018-02-28                                     NaN   \n",
              "2018-03-31                                     NaN   \n",
              "2018-04-30                                     NaN   \n",
              "2018-05-31                                     NaN   \n",
              "\n",
              "            Tricot Listrado Navy/Off White  Tricot Listrado Off White/Navy  \n",
              "2018-01-31                             NaN                             NaN  \n",
              "2018-02-28                             NaN                             NaN  \n",
              "2018-03-31                             NaN                             NaN  \n",
              "2018-04-30                             NaN                             NaN  \n",
              "2018-05-31                             NaN                             NaN  \n",
              "\n",
              "[5 rows x 505 columns]"
            ],
            "text/html": [
              "\n",
              "  <div id=\"df-b2fcb28d-6291-4d90-9ae2-443168f6ef90\">\n",
              "    <div class=\"colab-df-container\">\n",
              "      <div>\n",
              "<style scoped>\n",
              "    .dataframe tbody tr th:only-of-type {\n",
              "        vertical-align: middle;\n",
              "    }\n",
              "\n",
              "    .dataframe tbody tr th {\n",
              "        vertical-align: top;\n",
              "    }\n",
              "\n",
              "    .dataframe thead th {\n",
              "        text-align: right;\n",
              "    }\n",
              "</style>\n",
              "<table border=\"1\" class=\"dataframe\">\n",
              "  <thead>\n",
              "    <tr style=\"text-align: right;\">\n",
              "      <th></th>\n",
              "      <th>Bermuda Cargo Algodão Orgânico Light Azul Marinho</th>\n",
              "      <th>Bermuda Cargo Algodão Orgânico Light Cinza Chumbo</th>\n",
              "      <th>Bermuda Cargo Algodão Orgânico Light Preto</th>\n",
              "      <th>Bermuda Cargo Algodão Orgânico Light Verde Oliva</th>\n",
              "      <th>Bermuda Chambray Azul</th>\n",
              "      <th>Bermuda Chambray Preta</th>\n",
              "      <th>Bermuda Chambray Vermelha</th>\n",
              "      <th>Bermuda Chino Algodão Orgânico Relax Azul Marinho</th>\n",
              "      <th>Bermuda Chino Algodão Orgânico Relax Azul Médio</th>\n",
              "      <th>Bermuda Chino Algodão Orgânico Relax Off White</th>\n",
              "      <th>...</th>\n",
              "      <th>Suéter Gola V Azul Marinho</th>\n",
              "      <th>Suéter Gola V Cinza</th>\n",
              "      <th>Suéter Gola V Preta</th>\n",
              "      <th>Track Jacket OldSchool ORIBA+PACE Azul Marinho</th>\n",
              "      <th>Track Jacket OldSchool ORIBA+PACE Preto</th>\n",
              "      <th>Track Pants OldSchool ORIBA+PACE Azul Marinho</th>\n",
              "      <th>Track Pants OldSchool ORIBA+PACE Preto</th>\n",
              "      <th>Tricot Crewneck Patch ORIBA+PACE Preto</th>\n",
              "      <th>Tricot Listrado Navy/Off White</th>\n",
              "      <th>Tricot Listrado Off White/Navy</th>\n",
              "    </tr>\n",
              "  </thead>\n",
              "  <tbody>\n",
              "    <tr>\n",
              "      <th>2018-01-31</th>\n",
              "      <td>NaN</td>\n",
              "      <td>NaN</td>\n",
              "      <td>NaN</td>\n",
              "      <td>NaN</td>\n",
              "      <td>NaN</td>\n",
              "      <td>NaN</td>\n",
              "      <td>NaN</td>\n",
              "      <td>NaN</td>\n",
              "      <td>NaN</td>\n",
              "      <td>NaN</td>\n",
              "      <td>...</td>\n",
              "      <td>NaN</td>\n",
              "      <td>1.0</td>\n",
              "      <td>1.0</td>\n",
              "      <td>NaN</td>\n",
              "      <td>NaN</td>\n",
              "      <td>NaN</td>\n",
              "      <td>NaN</td>\n",
              "      <td>NaN</td>\n",
              "      <td>NaN</td>\n",
              "      <td>NaN</td>\n",
              "    </tr>\n",
              "    <tr>\n",
              "      <th>2018-02-28</th>\n",
              "      <td>NaN</td>\n",
              "      <td>NaN</td>\n",
              "      <td>NaN</td>\n",
              "      <td>NaN</td>\n",
              "      <td>NaN</td>\n",
              "      <td>NaN</td>\n",
              "      <td>NaN</td>\n",
              "      <td>NaN</td>\n",
              "      <td>NaN</td>\n",
              "      <td>NaN</td>\n",
              "      <td>...</td>\n",
              "      <td>1.0</td>\n",
              "      <td>1.0</td>\n",
              "      <td>0.0</td>\n",
              "      <td>NaN</td>\n",
              "      <td>NaN</td>\n",
              "      <td>NaN</td>\n",
              "      <td>NaN</td>\n",
              "      <td>NaN</td>\n",
              "      <td>NaN</td>\n",
              "      <td>NaN</td>\n",
              "    </tr>\n",
              "    <tr>\n",
              "      <th>2018-03-31</th>\n",
              "      <td>NaN</td>\n",
              "      <td>NaN</td>\n",
              "      <td>NaN</td>\n",
              "      <td>NaN</td>\n",
              "      <td>NaN</td>\n",
              "      <td>NaN</td>\n",
              "      <td>NaN</td>\n",
              "      <td>NaN</td>\n",
              "      <td>NaN</td>\n",
              "      <td>NaN</td>\n",
              "      <td>...</td>\n",
              "      <td>2.0</td>\n",
              "      <td>4.0</td>\n",
              "      <td>1.0</td>\n",
              "      <td>NaN</td>\n",
              "      <td>NaN</td>\n",
              "      <td>NaN</td>\n",
              "      <td>NaN</td>\n",
              "      <td>NaN</td>\n",
              "      <td>NaN</td>\n",
              "      <td>NaN</td>\n",
              "    </tr>\n",
              "    <tr>\n",
              "      <th>2018-04-30</th>\n",
              "      <td>NaN</td>\n",
              "      <td>NaN</td>\n",
              "      <td>NaN</td>\n",
              "      <td>NaN</td>\n",
              "      <td>NaN</td>\n",
              "      <td>NaN</td>\n",
              "      <td>NaN</td>\n",
              "      <td>NaN</td>\n",
              "      <td>NaN</td>\n",
              "      <td>NaN</td>\n",
              "      <td>...</td>\n",
              "      <td>3.0</td>\n",
              "      <td>2.0</td>\n",
              "      <td>0.0</td>\n",
              "      <td>NaN</td>\n",
              "      <td>NaN</td>\n",
              "      <td>NaN</td>\n",
              "      <td>NaN</td>\n",
              "      <td>NaN</td>\n",
              "      <td>NaN</td>\n",
              "      <td>NaN</td>\n",
              "    </tr>\n",
              "    <tr>\n",
              "      <th>2018-05-31</th>\n",
              "      <td>NaN</td>\n",
              "      <td>NaN</td>\n",
              "      <td>NaN</td>\n",
              "      <td>NaN</td>\n",
              "      <td>NaN</td>\n",
              "      <td>NaN</td>\n",
              "      <td>NaN</td>\n",
              "      <td>NaN</td>\n",
              "      <td>NaN</td>\n",
              "      <td>NaN</td>\n",
              "      <td>...</td>\n",
              "      <td>2.0</td>\n",
              "      <td>1.0</td>\n",
              "      <td>3.0</td>\n",
              "      <td>NaN</td>\n",
              "      <td>NaN</td>\n",
              "      <td>NaN</td>\n",
              "      <td>NaN</td>\n",
              "      <td>NaN</td>\n",
              "      <td>NaN</td>\n",
              "      <td>NaN</td>\n",
              "    </tr>\n",
              "  </tbody>\n",
              "</table>\n",
              "<p>5 rows × 505 columns</p>\n",
              "</div>\n",
              "      <button class=\"colab-df-convert\" onclick=\"convertToInteractive('df-b2fcb28d-6291-4d90-9ae2-443168f6ef90')\"\n",
              "              title=\"Convert this dataframe to an interactive table.\"\n",
              "              style=\"display:none;\">\n",
              "        \n",
              "  <svg xmlns=\"http://www.w3.org/2000/svg\" height=\"24px\"viewBox=\"0 0 24 24\"\n",
              "       width=\"24px\">\n",
              "    <path d=\"M0 0h24v24H0V0z\" fill=\"none\"/>\n",
              "    <path d=\"M18.56 5.44l.94 2.06.94-2.06 2.06-.94-2.06-.94-.94-2.06-.94 2.06-2.06.94zm-11 1L8.5 8.5l.94-2.06 2.06-.94-2.06-.94L8.5 2.5l-.94 2.06-2.06.94zm10 10l.94 2.06.94-2.06 2.06-.94-2.06-.94-.94-2.06-.94 2.06-2.06.94z\"/><path d=\"M17.41 7.96l-1.37-1.37c-.4-.4-.92-.59-1.43-.59-.52 0-1.04.2-1.43.59L10.3 9.45l-7.72 7.72c-.78.78-.78 2.05 0 2.83L4 21.41c.39.39.9.59 1.41.59.51 0 1.02-.2 1.41-.59l7.78-7.78 2.81-2.81c.8-.78.8-2.07 0-2.86zM5.41 20L4 18.59l7.72-7.72 1.47 1.35L5.41 20z\"/>\n",
              "  </svg>\n",
              "      </button>\n",
              "      \n",
              "  <style>\n",
              "    .colab-df-container {\n",
              "      display:flex;\n",
              "      flex-wrap:wrap;\n",
              "      gap: 12px;\n",
              "    }\n",
              "\n",
              "    .colab-df-convert {\n",
              "      background-color: #E8F0FE;\n",
              "      border: none;\n",
              "      border-radius: 50%;\n",
              "      cursor: pointer;\n",
              "      display: none;\n",
              "      fill: #1967D2;\n",
              "      height: 32px;\n",
              "      padding: 0 0 0 0;\n",
              "      width: 32px;\n",
              "    }\n",
              "\n",
              "    .colab-df-convert:hover {\n",
              "      background-color: #E2EBFA;\n",
              "      box-shadow: 0px 1px 2px rgba(60, 64, 67, 0.3), 0px 1px 3px 1px rgba(60, 64, 67, 0.15);\n",
              "      fill: #174EA6;\n",
              "    }\n",
              "\n",
              "    [theme=dark] .colab-df-convert {\n",
              "      background-color: #3B4455;\n",
              "      fill: #D2E3FC;\n",
              "    }\n",
              "\n",
              "    [theme=dark] .colab-df-convert:hover {\n",
              "      background-color: #434B5C;\n",
              "      box-shadow: 0px 1px 3px 1px rgba(0, 0, 0, 0.15);\n",
              "      filter: drop-shadow(0px 1px 2px rgba(0, 0, 0, 0.3));\n",
              "      fill: #FFFFFF;\n",
              "    }\n",
              "  </style>\n",
              "\n",
              "      <script>\n",
              "        const buttonEl =\n",
              "          document.querySelector('#df-b2fcb28d-6291-4d90-9ae2-443168f6ef90 button.colab-df-convert');\n",
              "        buttonEl.style.display =\n",
              "          google.colab.kernel.accessAllowed ? 'block' : 'none';\n",
              "\n",
              "        async function convertToInteractive(key) {\n",
              "          const element = document.querySelector('#df-b2fcb28d-6291-4d90-9ae2-443168f6ef90');\n",
              "          const dataTable =\n",
              "            await google.colab.kernel.invokeFunction('convertToInteractive',\n",
              "                                                     [key], {});\n",
              "          if (!dataTable) return;\n",
              "\n",
              "          const docLinkHtml = 'Like what you see? Visit the ' +\n",
              "            '<a target=\"_blank\" href=https://colab.research.google.com/notebooks/data_table.ipynb>data table notebook</a>'\n",
              "            + ' to learn more about interactive tables.';\n",
              "          element.innerHTML = '';\n",
              "          dataTable['output_type'] = 'display_data';\n",
              "          await google.colab.output.renderOutput(dataTable, element);\n",
              "          const docLink = document.createElement('div');\n",
              "          docLink.innerHTML = docLinkHtml;\n",
              "          element.appendChild(docLink);\n",
              "        }\n",
              "      </script>\n",
              "    </div>\n",
              "  </div>\n",
              "  "
            ]
          },
          "metadata": {},
          "execution_count": 5
        }
      ]
    },
    {
      "cell_type": "code",
      "source": [
        "df[ df.columns[0:50] ].isnull().sum() "
      ],
      "metadata": {
        "colab": {
          "base_uri": "https://localhost:8080/"
        },
        "id": "I9ExVTGCgeEo",
        "outputId": "b0b129de-45c0-41e7-e854-21646470a1de"
      },
      "execution_count": 6,
      "outputs": [
        {
          "output_type": "execute_result",
          "data": {
            "text/plain": [
              "Bermuda Cargo Algodão Orgânico Light Azul Marinho      46\n",
              "Bermuda Cargo Algodão Orgânico Light Cinza Chumbo      46\n",
              "Bermuda Cargo Algodão Orgânico Light Preto             46\n",
              "Bermuda Cargo Algodão Orgânico Light Verde Oliva       46\n",
              "Bermuda Chambray Azul                                  26\n",
              "Bermuda Chambray Preta                                 25\n",
              "Bermuda Chambray Vermelha                              26\n",
              "Bermuda Chino Algodão Orgânico Relax Azul Marinho      45\n",
              "Bermuda Chino Algodão Orgânico Relax Azul Médio        45\n",
              "Bermuda Chino Algodão Orgânico Relax Off White         45\n",
              "Bermuda Chino Algodão Orgânico Relax Preto             45\n",
              "Bermuda Chino Algodão Orgânico Relax Verde Oliva       45\n",
              "Bermuda Chino Azul Marinho                              0\n",
              "Bermuda Chino Bege                                      0\n",
              "Bermuda Chino Cáqui                                    10\n",
              "Bermuda Chino Cinza                                     0\n",
              "Bermuda Chino Preta                                     0\n",
              "Bermuda Chino Verde Oliva                              10\n",
              "Bermuda Linho Azul Marinho                             11\n",
              "Bermuda Linho Natural                                  36\n",
              "Bermuda Moletom Algodão Orgânico Azul Marinho          46\n",
              "Bermuda Moletom Algodão Orgânico Off-White             46\n",
              "Bermuda Moletom Algodão Orgânico Preto                 46\n",
              "Bermuda Moletom Algodão Orgânico Verde                 46\n",
              "Bermuda Moletom Azul Marinho                            0\n",
              "Bermuda Moletom Cinza                                   0\n",
              "Bermuda Moletom Preta                                   0\n",
              "Bermuda Sarja Elástico Azul Marinho                    33\n",
              "Bermuda Sarja Elástico Bege                            33\n",
              "Bermuda Sarja Elástico Oliva                           33\n",
              "Bermuda Sarja Elástico Preta                           33\n",
              "Blazer Double Breasted ORIBA+PACE Azul Marinho         44\n",
              "Blazer Double Breasted ORIBA+PACE Preto                44\n",
              "Blusa Moletom Algodão Orgânico Canguru Azul Marinho    41\n",
              "Blusa Moletom Algodão Orgânico Canguru Preto           41\n",
              "Blusa Moletom Algodão Orgânico Gola C Azul Marinho     40\n",
              "Blusa Moletom Algodão Orgânico Gola C Off White        41\n",
              "Blusa Moletom Algodão Orgânico Gola C Preto            41\n",
              "Blusa Moletom Canguru Antiviral Azul Marinho           31\n",
              "Blusa Moletom Canguru Antiviral Off White              30\n",
              "Blusa Moletom Canguru Antiviral Preta                  30\n",
              "Blusa Moletom Canguru Azul Marinho                     18\n",
              "Blusa Moletom Canguru Pima Cinza                       27\n",
              "Blusa Moletom Canguru Preta                             4\n",
              "Blusa Moletom Canguru Rosa Pastel                      18\n",
              "Blusa Moletom Canguru Verde Pastel                     18\n",
              "Blusa Moletom Com Zíper Azul Marinho                   18\n",
              "Blusa Moletom Com Zíper Preta                           1\n",
              "Blusa Moletom Gola C Antiviral Azul Marinho            31\n",
              "Blusa Moletom Gola C Antiviral Off White               30\n",
              "dtype: int64"
            ]
          },
          "metadata": {},
          "execution_count": 6
        }
      ]
    },
    {
      "cell_type": "code",
      "source": [
        "def apply_kats_all(df, show_plot=False):\n",
        "  forecast_months = 3\n",
        "  mse_values = {}\n",
        "  predictions = {}\n",
        "\n",
        "  for c in df:\n",
        "\n",
        "    print('Processing... ', c)\n",
        "    max_date = df.index.max() - pd.DateOffset(months=forecast_months)\n",
        "    df_kats = df[ df.index <= max_date][c].reset_index()\n",
        "    df_kats.columns = ['time','sell']\n",
        "    df_kats = df_kats.dropna()\n",
        "\n",
        "    if len(df_kats) > 2*forecast_months:\n",
        "      m, pred = kats_prophet(df_kats,model='additive',steps_ahead=forecast_months)\n",
        "      pred = pred.set_index('time')\n",
        "\n",
        "      pred.index = pred.index + pd.offsets.MonthEnd(0) # ajusta para o final do mês\n",
        "\n",
        "      mse = np.mean( ( df[ df.index > max_date][c].values - pred['fcst'].values )**2 )\n",
        "    else:\n",
        "      print('*** WARNING *** product ', c , ' do not have data enough to forecast')\n",
        "      mse = -1\n",
        "      pred = pd.DataFrame()\n",
        "\n",
        "    mse_values[c] = mse\n",
        "    predictions[c] = pred\n",
        "\n",
        "    if show_plot and mse != -1:\n",
        "  \n",
        "      fig, ax = plt.subplots()\n",
        "      tspplot(df[c],ax=ax) \n",
        "      tspplot(pred['fcst'],title='Previsão',linestyle='dashed',ax=ax) \n",
        "      ax.fill_between(pred.index, pred['fcst_lower'], pred['fcst_upper'], color='grey', alpha=.3)\n",
        "\n",
        "      # tspdisplay('df[[ df.columns[0] ]].tail()')\n",
        "      # tspdisplay('pred')\n",
        "      plt.show()\n",
        "\n",
        "  return predictions, mse_values\n",
        "    \n",
        "\n"
      ],
      "metadata": {
        "id": "LTq3M217QLg3"
      },
      "execution_count": 7,
      "outputs": []
    },
    {
      "cell_type": "code",
      "source": [
        "predictions, mse_values = apply_kats_all(df[ df.columns[0:20] ],show_plot=True)"
      ],
      "metadata": {
        "colab": {
          "base_uri": "https://localhost:8080/",
          "height": 1000
        },
        "id": "10MyK8jUUeCv",
        "outputId": "15bca974-5e85-47aa-c5c8-940a929eb145"
      },
      "execution_count": 10,
      "outputs": [
        {
          "output_type": "stream",
          "name": "stdout",
          "text": [
            "Processing...  Bermuda Cargo Algodão Orgânico Light Azul Marinho\n",
            "*** WARNING *** product  Bermuda Cargo Algodão Orgânico Light Azul Marinho  do not have data enough to forecast\n",
            "Processing...  Bermuda Cargo Algodão Orgânico Light Cinza Chumbo\n",
            "*** WARNING *** product  Bermuda Cargo Algodão Orgânico Light Cinza Chumbo  do not have data enough to forecast\n",
            "Processing...  Bermuda Cargo Algodão Orgânico Light Preto\n",
            "*** WARNING *** product  Bermuda Cargo Algodão Orgânico Light Preto  do not have data enough to forecast\n",
            "Processing...  Bermuda Cargo Algodão Orgânico Light Verde Oliva\n",
            "*** WARNING *** product  Bermuda Cargo Algodão Orgânico Light Verde Oliva  do not have data enough to forecast\n",
            "Processing...  Bermuda Chambray Azul\n"
          ]
        },
        {
          "output_type": "stream",
          "name": "stderr",
          "text": [
            "INFO:fbprophet:Disabling yearly seasonality. Run prophet with yearly_seasonality=True to override this.\n",
            "INFO:fbprophet:Disabling weekly seasonality. Run prophet with weekly_seasonality=True to override this.\n",
            "INFO:fbprophet:Disabling daily seasonality. Run prophet with daily_seasonality=True to override this.\n",
            "INFO:fbprophet:n_changepoints greater than number of observations. Using 14.\n"
          ]
        },
        {
          "output_type": "display_data",
          "data": {
            "text/plain": [
              "<Figure size 432x288 with 1 Axes>"
            ],
            "image/png": "[encoded data removed]"
          },
          "metadata": {
            "needs_background": "light"
          }
        },
        {
          "output_type": "stream",
          "name": "stderr",
          "text": [
            "INFO:fbprophet:Disabling yearly seasonality. Run prophet with yearly_seasonality=True to override this.\n",
            "INFO:fbprophet:Disabling weekly seasonality. Run prophet with weekly_seasonality=True to override this.\n",
            "INFO:fbprophet:Disabling daily seasonality. Run prophet with daily_seasonality=True to override this.\n",
            "INFO:fbprophet:n_changepoints greater than number of observations. Using 15.\n"
          ]
        },
        {
          "output_type": "stream",
          "name": "stdout",
          "text": [
            "Processing...  Bermuda Chambray Preta\n"
          ]
        },
        {
          "output_type": "display_data",
          "data": {
            "text/plain": [
              "<Figure size 432x288 with 1 Axes>"
            ],
            "image/png": "[encoded data removed]"
          },
          "metadata": {
            "needs_background": "light"
          }
        },
        {
          "output_type": "stream",
          "name": "stderr",
          "text": [
            "INFO:fbprophet:Disabling yearly seasonality. Run prophet with yearly_seasonality=True to override this.\n",
            "INFO:fbprophet:Disabling weekly seasonality. Run prophet with weekly_seasonality=True to override this.\n",
            "INFO:fbprophet:Disabling daily seasonality. Run prophet with daily_seasonality=True to override this.\n",
            "INFO:fbprophet:n_changepoints greater than number of observations. Using 14.\n"
          ]
        },
        {
          "output_type": "stream",
          "name": "stdout",
          "text": [
            "Processing...  Bermuda Chambray Vermelha\n"
          ]
        },
        {
          "output_type": "display_data",
          "data": {
            "text/plain": [
              "<Figure size 432x288 with 1 Axes>"
            ],
            "image/png": "[encoded data removed]"
          },
          "metadata": {
            "needs_background": "light"
          }
        },
        {
          "output_type": "stream",
          "name": "stderr",
          "text": [
            "INFO:fbprophet:Disabling weekly seasonality. Run prophet with weekly_seasonality=True to override this.\n",
            "INFO:fbprophet:Disabling daily seasonality. Run prophet with daily_seasonality=True to override this.\n"
          ]
        },
        {
          "output_type": "stream",
          "name": "stdout",
          "text": [
            "Processing...  Bermuda Chino Algodão Orgânico Relax Azul Marinho\n",
            "*** WARNING *** product  Bermuda Chino Algodão Orgânico Relax Azul Marinho  do not have data enough to forecast\n",
            "Processing...  Bermuda Chino Algodão Orgânico Relax Azul Médio\n",
            "*** WARNING *** product  Bermuda Chino Algodão Orgânico Relax Azul Médio  do not have data enough to forecast\n",
            "Processing...  Bermuda Chino Algodão Orgânico Relax Off White\n",
            "*** WARNING *** product  Bermuda Chino Algodão Orgânico Relax Off White  do not have data enough to forecast\n",
            "Processing...  Bermuda Chino Algodão Orgânico Relax Preto\n",
            "*** WARNING *** product  Bermuda Chino Algodão Orgânico Relax Preto  do not have data enough to forecast\n",
            "Processing...  Bermuda Chino Algodão Orgânico Relax Verde Oliva\n",
            "*** WARNING *** product  Bermuda Chino Algodão Orgânico Relax Verde Oliva  do not have data enough to forecast\n",
            "Processing...  Bermuda Chino Azul Marinho\n"
          ]
        },
        {
          "output_type": "display_data",
          "data": {
            "text/plain": [
              "<Figure size 432x288 with 1 Axes>"
            ],
            "image/png": "[encoded data removed]"
          },
          "metadata": {
            "needs_background": "light"
          }
        },
        {
          "output_type": "stream",
          "name": "stderr",
          "text": [
            "INFO:fbprophet:Disabling weekly seasonality. Run prophet with weekly_seasonality=True to override this.\n",
            "INFO:fbprophet:Disabling daily seasonality. Run prophet with daily_seasonality=True to override this.\n"
          ]
        },
        {
          "output_type": "stream",
          "name": "stdout",
          "text": [
            "Processing...  Bermuda Chino Bege\n"
          ]
        },
        {
          "output_type": "display_data",
          "data": {
            "text/plain": [
              "<Figure size 432x288 with 1 Axes>"
            ],
            "image/png": "[encoded data removed]"
          },
          "metadata": {
            "needs_background": "light"
          }
        },
        {
          "output_type": "stream",
          "name": "stderr",
          "text": [
            "INFO:fbprophet:Disabling weekly seasonality. Run prophet with weekly_seasonality=True to override this.\n",
            "INFO:fbprophet:Disabling daily seasonality. Run prophet with daily_seasonality=True to override this.\n"
          ]
        },
        {
          "output_type": "stream",
          "name": "stdout",
          "text": [
            "Processing...  Bermuda Chino Cáqui\n"
          ]
        },
        {
          "output_type": "display_data",
          "data": {
            "text/plain": [
              "<Figure size 432x288 with 1 Axes>"
            ],
            "image/png": "[encoded data removed]"
          },
          "metadata": {
            "needs_background": "light"
          }
        },
        {
          "output_type": "stream",
          "name": "stderr",
          "text": [
            "INFO:fbprophet:Disabling weekly seasonality. Run prophet with weekly_seasonality=True to override this.\n",
            "INFO:fbprophet:Disabling daily seasonality. Run prophet with daily_seasonality=True to override this.\n"
          ]
        },
        {
          "output_type": "stream",
          "name": "stdout",
          "text": [
            "Processing...  Bermuda Chino Cinza\n"
          ]
        },
        {
          "output_type": "display_data",
          "data": {
            "text/plain": [
              "<Figure size 432x288 with 1 Axes>"
            ],
            "image/png": "[encoded data removed]"
          },
          "metadata": {
            "needs_background": "light"
          }
        },
        {
          "output_type": "stream",
          "name": "stderr",
          "text": [
            "INFO:fbprophet:Disabling weekly seasonality. Run prophet with weekly_seasonality=True to override this.\n",
            "INFO:fbprophet:Disabling daily seasonality. Run prophet with daily_seasonality=True to override this.\n"
          ]
        },
        {
          "output_type": "stream",
          "name": "stdout",
          "text": [
            "Processing...  Bermuda Chino Preta\n"
          ]
        },
        {
          "output_type": "display_data",
          "data": {
            "text/plain": [
              "<Figure size 432x288 with 1 Axes>"
            ],
            "image/png": "[encoded data removed]"
          },
          "metadata": {
            "needs_background": "light"
          }
        },
        {
          "output_type": "stream",
          "name": "stderr",
          "text": [
            "INFO:fbprophet:Disabling weekly seasonality. Run prophet with weekly_seasonality=True to override this.\n",
            "INFO:fbprophet:Disabling daily seasonality. Run prophet with daily_seasonality=True to override this.\n"
          ]
        },
        {
          "output_type": "stream",
          "name": "stdout",
          "text": [
            "Processing...  Bermuda Chino Verde Oliva\n"
          ]
        },
        {
          "output_type": "display_data",
          "data": {
            "text/plain": [
              "<Figure size 432x288 with 1 Axes>"
            ],
            "image/png": "[encoded data removed]"
          },
          "metadata": {
            "needs_background": "light"
          }
        },
        {
          "output_type": "stream",
          "name": "stderr",
          "text": [
            "INFO:fbprophet:Disabling weekly seasonality. Run prophet with weekly_seasonality=True to override this.\n",
            "INFO:fbprophet:Disabling daily seasonality. Run prophet with daily_seasonality=True to override this.\n"
          ]
        },
        {
          "output_type": "stream",
          "name": "stdout",
          "text": [
            "Processing...  Bermuda Linho Azul Marinho\n"
          ]
        },
        {
          "output_type": "display_data",
          "data": {
            "text/plain": [
              "<Figure size 432x288 with 1 Axes>"
            ],
            "image/png": "[encoded data removed]"
          },
          "metadata": {
            "needs_background": "light"
          }
        },
        {
          "output_type": "stream",
          "name": "stderr",
          "text": [
            "INFO:fbprophet:Disabling yearly seasonality. Run prophet with yearly_seasonality=True to override this.\n",
            "INFO:fbprophet:Disabling weekly seasonality. Run prophet with weekly_seasonality=True to override this.\n",
            "INFO:fbprophet:Disabling daily seasonality. Run prophet with daily_seasonality=True to override this.\n",
            "INFO:fbprophet:n_changepoints greater than number of observations. Using 6.\n"
          ]
        },
        {
          "output_type": "stream",
          "name": "stdout",
          "text": [
            "Processing...  Bermuda Linho Natural\n"
          ]
        },
        {
          "output_type": "display_data",
          "data": {
            "text/plain": [
              "<Figure size 432x288 with 1 Axes>"
            ],
            "image/png": "[encoded data removed]"
          },
          "metadata": {
            "needs_background": "light"
          }
        }
      ]
    },
    {
      "cell_type": "code",
      "source": [
        "column = 'Bermuda Chambray Azul'\n",
        "pred = predictions[column]\n",
        "\n",
        "pred.index = pred.index + pd.offsets.MonthEnd(0) \n",
        "pred"
      ],
      "metadata": {
        "colab": {
          "base_uri": "https://localhost:8080/",
          "height": 175
        },
        "id": "cfrS0eymeTC_",
        "outputId": "c399c85b-e8a6-4395-9ef1-419dfa58396a"
      },
      "execution_count": 11,
      "outputs": [
        {
          "output_type": "execute_result",
          "data": {
            "text/plain": [
              "                fcst  fcst_lower  fcst_upper\n",
              "time                                        \n",
              "2021-10-31  1.523152   -6.114693    9.033230\n",
              "2021-11-30  1.030319   -6.470143    8.655569\n",
              "2021-12-31  0.553384   -7.076641    8.675008"
            ],
            "text/html": [
              "\n",
              "  <div id=\"df-7c2921c0-a4cd-4005-a9ee-614b8c9f76a9\">\n",
              "    <div class=\"colab-df-container\">\n",
              "      <div>\n",
              "<style scoped>\n",
              "    .dataframe tbody tr th:only-of-type {\n",
              "        vertical-align: middle;\n",
              "    }\n",
              "\n",
              "    .dataframe tbody tr th {\n",
              "        vertical-align: top;\n",
              "    }\n",
              "\n",
              "    .dataframe thead th {\n",
              "        text-align: right;\n",
              "    }\n",
              "</style>\n",
              "<table border=\"1\" class=\"dataframe\">\n",
              "  <thead>\n",
              "    <tr style=\"text-align: right;\">\n",
              "      <th></th>\n",
              "      <th>fcst</th>\n",
              "      <th>fcst_lower</th>\n",
              "      <th>fcst_upper</th>\n",
              "    </tr>\n",
              "    <tr>\n",
              "      <th>time</th>\n",
              "      <th></th>\n",
              "      <th></th>\n",
              "      <th></th>\n",
              "    </tr>\n",
              "  </thead>\n",
              "  <tbody>\n",
              "    <tr>\n",
              "      <th>2021-10-31</th>\n",
              "      <td>1.523152</td>\n",
              "      <td>-6.114693</td>\n",
              "      <td>9.033230</td>\n",
              "    </tr>\n",
              "    <tr>\n",
              "      <th>2021-11-30</th>\n",
              "      <td>1.030319</td>\n",
              "      <td>-6.470143</td>\n",
              "      <td>8.655569</td>\n",
              "    </tr>\n",
              "    <tr>\n",
              "      <th>2021-12-31</th>\n",
              "      <td>0.553384</td>\n",
              "      <td>-7.076641</td>\n",
              "      <td>8.675008</td>\n",
              "    </tr>\n",
              "  </tbody>\n",
              "</table>\n",
              "</div>\n",
              "      <button class=\"colab-df-convert\" onclick=\"convertToInteractive('df-7c2921c0-a4cd-4005-a9ee-614b8c9f76a9')\"\n",
              "              title=\"Convert this dataframe to an interactive table.\"\n",
              "              style=\"display:none;\">\n",
              "        \n",
              "  <svg xmlns=\"http://www.w3.org/2000/svg\" height=\"24px\"viewBox=\"0 0 24 24\"\n",
              "       width=\"24px\">\n",
              "    <path d=\"M0 0h24v24H0V0z\" fill=\"none\"/>\n",
              "    <path d=\"M18.56 5.44l.94 2.06.94-2.06 2.06-.94-2.06-.94-.94-2.06-.94 2.06-2.06.94zm-11 1L8.5 8.5l.94-2.06 2.06-.94-2.06-.94L8.5 2.5l-.94 2.06-2.06.94zm10 10l.94 2.06.94-2.06 2.06-.94-2.06-.94-.94-2.06-.94 2.06-2.06.94z\"/><path d=\"M17.41 7.96l-1.37-1.37c-.4-.4-.92-.59-1.43-.59-.52 0-1.04.2-1.43.59L10.3 9.45l-7.72 7.72c-.78.78-.78 2.05 0 2.83L4 21.41c.39.39.9.59 1.41.59.51 0 1.02-.2 1.41-.59l7.78-7.78 2.81-2.81c.8-.78.8-2.07 0-2.86zM5.41 20L4 18.59l7.72-7.72 1.47 1.35L5.41 20z\"/>\n",
              "  </svg>\n",
              "      </button>\n",
              "      \n",
              "  <style>\n",
              "    .colab-df-container {\n",
              "      display:flex;\n",
              "      flex-wrap:wrap;\n",
              "      gap: 12px;\n",
              "    }\n",
              "\n",
              "    .colab-df-convert {\n",
              "      background-color: #E8F0FE;\n",
              "      border: none;\n",
              "      border-radius: 50%;\n",
              "      cursor: pointer;\n",
              "      display: none;\n",
              "      fill: #1967D2;\n",
              "      height: 32px;\n",
              "      padding: 0 0 0 0;\n",
              "      width: 32px;\n",
              "    }\n",
              "\n",
              "    .colab-df-convert:hover {\n",
              "      background-color: #E2EBFA;\n",
              "      box-shadow: 0px 1px 2px rgba(60, 64, 67, 0.3), 0px 1px 3px 1px rgba(60, 64, 67, 0.15);\n",
              "      fill: #174EA6;\n",
              "    }\n",
              "\n",
              "    [theme=dark] .colab-df-convert {\n",
              "      background-color: #3B4455;\n",
              "      fill: #D2E3FC;\n",
              "    }\n",
              "\n",
              "    [theme=dark] .colab-df-convert:hover {\n",
              "      background-color: #434B5C;\n",
              "      box-shadow: 0px 1px 3px 1px rgba(0, 0, 0, 0.15);\n",
              "      filter: drop-shadow(0px 1px 2px rgba(0, 0, 0, 0.3));\n",
              "      fill: #FFFFFF;\n",
              "    }\n",
              "  </style>\n",
              "\n",
              "      <script>\n",
              "        const buttonEl =\n",
              "          document.querySelector('#df-7c2921c0-a4cd-4005-a9ee-614b8c9f76a9 button.colab-df-convert');\n",
              "        buttonEl.style.display =\n",
              "          google.colab.kernel.accessAllowed ? 'block' : 'none';\n",
              "\n",
              "        async function convertToInteractive(key) {\n",
              "          const element = document.querySelector('#df-7c2921c0-a4cd-4005-a9ee-614b8c9f76a9');\n",
              "          const dataTable =\n",
              "            await google.colab.kernel.invokeFunction('convertToInteractive',\n",
              "                                                     [key], {});\n",
              "          if (!dataTable) return;\n",
              "\n",
              "          const docLinkHtml = 'Like what you see? Visit the ' +\n",
              "            '<a target=\"_blank\" href=https://colab.research.google.com/notebooks/data_table.ipynb>data table notebook</a>'\n",
              "            + ' to learn more about interactive tables.';\n",
              "          element.innerHTML = '';\n",
              "          dataTable['output_type'] = 'display_data';\n",
              "          await google.colab.output.renderOutput(dataTable, element);\n",
              "          const docLink = document.createElement('div');\n",
              "          docLink.innerHTML = docLinkHtml;\n",
              "          element.appendChild(docLink);\n",
              "        }\n",
              "      </script>\n",
              "    </div>\n",
              "  </div>\n",
              "  "
            ]
          },
          "metadata": {},
          "execution_count": 11
        }
      ]
    },
    {
      "cell_type": "code",
      "source": [
        "column = 'Bermuda Chambray Azul'\n",
        "pred = predictions[column]\n",
        "\n",
        "fig, ax = plt.subplots()\n",
        "tspplot(df[[column]],ax=ax) \n",
        "tspplot(pred['fcst'],title='Previsão',linestyle='dashed',ax=ax) \n",
        "ax.fill_between(pred.index, pred['fcst_lower'], pred['fcst_upper'], color='grey', alpha=.3)\n",
        "\n",
        "# tspdisplay('df[[ df.columns[0] ]].tail()')\n",
        "tspdisplay('pred')"
      ],
      "metadata": {
        "colab": {
          "base_uri": "https://localhost:8080/",
          "height": 297
        },
        "outputId": "9a7830b9-131b-4193-d5eb-a5c60fc54c53",
        "id": "oLY9ili5v6WR"
      },
      "execution_count": 12,
      "outputs": [
        {
          "output_type": "execute_result",
          "data": {
            "text/plain": [
              "pred\n",
              "                fcst  fcst_lower  fcst_upper\n",
              "time                                        \n",
              "2021-10-31  1.523152   -6.114693    9.033230\n",
              "2021-11-30  1.030319   -6.470143    8.655569\n",
              "2021-12-31  0.553384   -7.076641    8.675008"
            ],
            "text/html": [
              "<div style=\"float: left; padding: 10px;\">\n",
              "    <hr>\n",
              "    <h3 style='font-family:\"Courier New\", Courier, monospace'>pred</h3><hr><div>\n",
              "<style scoped>\n",
              "    .dataframe tbody tr th:only-of-type {\n",
              "        vertical-align: middle;\n",
              "    }\n",
              "\n",
              "    .dataframe tbody tr th {\n",
              "        vertical-align: top;\n",
              "    }\n",
              "\n",
              "    .dataframe thead th {\n",
              "        text-align: right;\n",
              "    }\n",
              "</style>\n",
              "<table border=\"1\" class=\"dataframe\">\n",
              "  <thead>\n",
              "    <tr style=\"text-align: right;\">\n",
              "      <th></th>\n",
              "      <th>fcst</th>\n",
              "      <th>fcst_lower</th>\n",
              "      <th>fcst_upper</th>\n",
              "    </tr>\n",
              "    <tr>\n",
              "      <th>time</th>\n",
              "      <th></th>\n",
              "      <th></th>\n",
              "      <th></th>\n",
              "    </tr>\n",
              "  </thead>\n",
              "  <tbody>\n",
              "    <tr>\n",
              "      <th>2021-10-31</th>\n",
              "      <td>1.523152</td>\n",
              "      <td>-6.114693</td>\n",
              "      <td>9.033230</td>\n",
              "    </tr>\n",
              "    <tr>\n",
              "      <th>2021-11-30</th>\n",
              "      <td>1.030319</td>\n",
              "      <td>-6.470143</td>\n",
              "      <td>8.655569</td>\n",
              "    </tr>\n",
              "    <tr>\n",
              "      <th>2021-12-31</th>\n",
              "      <td>0.553384</td>\n",
              "      <td>-7.076641</td>\n",
              "      <td>8.675008</td>\n",
              "    </tr>\n",
              "  </tbody>\n",
              "</table>\n",
              "</div>\n",
              "    </div>"
            ]
          },
          "metadata": {},
          "execution_count": 12
        },
        {
          "output_type": "display_data",
          "data": {
            "text/plain": [
              "<Figure size 432x288 with 1 Axes>"
            ],
            "image/png": "[encoded data removed]"
          },
          "metadata": {
            "needs_background": "light"
          }
        }
      ]
    },
    {
      "cell_type": "code",
      "source": [
        "produto = []\n",
        "mse_forecast = []\n",
        "for key, value in mse_values.items():\n",
        "  produto.append(key)\n",
        "  mse_forecast.append(value)\n",
        "\n",
        "mse_df = pd.DataFrame()\n",
        "mse_df['produto'] = produto\n",
        "mse_df['mse_forecast'] = mse_forecast\n",
        "\n",
        "mse_df = mse_df.sort_values('mse_forecast').reset_index(drop=True)\n",
        "\n",
        "display(mse_df)"
      ],
      "metadata": {
        "colab": {
          "base_uri": "https://localhost:8080/",
          "height": 677
        },
        "id": "ETi4NsHOW2GH",
        "outputId": "d5dd48e3-6c7c-4e51-839c-5c507f674872"
      },
      "execution_count": 13,
      "outputs": [
        {
          "output_type": "display_data",
          "data": {
            "text/plain": [
              "                                              produto  mse_forecast\n",
              "0   Bermuda Cargo Algodão Orgânico Light Azul Marinho     -1.000000\n",
              "1    Bermuda Chino Algodão Orgânico Relax Verde Oliva     -1.000000\n",
              "2          Bermuda Chino Algodão Orgânico Relax Preto     -1.000000\n",
              "3     Bermuda Chino Algodão Orgânico Relax Azul Médio     -1.000000\n",
              "4   Bermuda Chino Algodão Orgânico Relax Azul Marinho     -1.000000\n",
              "5      Bermuda Chino Algodão Orgânico Relax Off White     -1.000000\n",
              "6    Bermuda Cargo Algodão Orgânico Light Verde Oliva     -1.000000\n",
              "7          Bermuda Cargo Algodão Orgânico Light Preto     -1.000000\n",
              "8   Bermuda Cargo Algodão Orgânico Light Cinza Chumbo     -1.000000\n",
              "9                               Bermuda Chambray Azul      1.229261\n",
              "10                             Bermuda Chambray Preta      9.034836\n",
              "11                          Bermuda Chambray Vermelha     10.185549\n",
              "12                                 Bermuda Chino Bege     10.398412\n",
              "13                                Bermuda Chino Preta    179.333543\n",
              "14                                Bermuda Chino Cinza    326.199275\n",
              "15                         Bermuda Chino Azul Marinho    329.884639\n",
              "16                          Bermuda Chino Verde Oliva    432.601755\n",
              "17                                Bermuda Chino Cáqui    496.532716\n",
              "18                         Bermuda Linho Azul Marinho   1383.212092\n",
              "19                              Bermuda Linho Natural   4374.043139"
            ],
            "text/html": [
              "\n",
              "  <div id=\"df-fa1ff9cc-1aef-453d-8b2e-458c63dbdb46\">\n",
              "    <div class=\"colab-df-container\">\n",
              "      <div>\n",
              "<style scoped>\n",
              "    .dataframe tbody tr th:only-of-type {\n",
              "        vertical-align: middle;\n",
              "    }\n",
              "\n",
              "    .dataframe tbody tr th {\n",
              "        vertical-align: top;\n",
              "    }\n",
              "\n",
              "    .dataframe thead th {\n",
              "        text-align: right;\n",
              "    }\n",
              "</style>\n",
              "<table border=\"1\" class=\"dataframe\">\n",
              "  <thead>\n",
              "    <tr style=\"text-align: right;\">\n",
              "      <th></th>\n",
              "      <th>produto</th>\n",
              "      <th>mse_forecast</th>\n",
              "    </tr>\n",
              "  </thead>\n",
              "  <tbody>\n",
              "    <tr>\n",
              "      <th>0</th>\n",
              "      <td>Bermuda Cargo Algodão Orgânico Light Azul Marinho</td>\n",
              "      <td>-1.000000</td>\n",
              "    </tr>\n",
              "    <tr>\n",
              "      <th>1</th>\n",
              "      <td>Bermuda Chino Algodão Orgânico Relax Verde Oliva</td>\n",
              "      <td>-1.000000</td>\n",
              "    </tr>\n",
              "    <tr>\n",
              "      <th>2</th>\n",
              "      <td>Bermuda Chino Algodão Orgânico Relax Preto</td>\n",
              "      <td>-1.000000</td>\n",
              "    </tr>\n",
              "    <tr>\n",
              "      <th>3</th>\n",
              "      <td>Bermuda Chino Algodão Orgânico Relax Azul Médio</td>\n",
              "      <td>-1.000000</td>\n",
              "    </tr>\n",
              "    <tr>\n",
              "      <th>4</th>\n",
              "      <td>Bermuda Chino Algodão Orgânico Relax Azul Marinho</td>\n",
              "      <td>-1.000000</td>\n",
              "    </tr>\n",
              "    <tr>\n",
              "      <th>5</th>\n",
              "      <td>Bermuda Chino Algodão Orgânico Relax Off White</td>\n",
              "      <td>-1.000000</td>\n",
              "    </tr>\n",
              "    <tr>\n",
              "      <th>6</th>\n",
              "      <td>Bermuda Cargo Algodão Orgânico Light Verde Oliva</td>\n",
              "      <td>-1.000000</td>\n",
              "    </tr>\n",
              "    <tr>\n",
              "      <th>7</th>\n",
              "      <td>Bermuda Cargo Algodão Orgânico Light Preto</td>\n",
              "      <td>-1.000000</td>\n",
              "    </tr>\n",
              "    <tr>\n",
              "      <th>8</th>\n",
              "      <td>Bermuda Cargo Algodão Orgânico Light Cinza Chumbo</td>\n",
              "      <td>-1.000000</td>\n",
              "    </tr>\n",
              "    <tr>\n",
              "      <th>9</th>\n",
              "      <td>Bermuda Chambray Azul</td>\n",
              "      <td>1.229261</td>\n",
              "    </tr>\n",
              "    <tr>\n",
              "      <th>10</th>\n",
              "      <td>Bermuda Chambray Preta</td>\n",
              "      <td>9.034836</td>\n",
              "    </tr>\n",
              "    <tr>\n",
              "      <th>11</th>\n",
              "      <td>Bermuda Chambray Vermelha</td>\n",
              "      <td>10.185549</td>\n",
              "    </tr>\n",
              "    <tr>\n",
              "      <th>12</th>\n",
              "      <td>Bermuda Chino Bege</td>\n",
              "      <td>10.398412</td>\n",
              "    </tr>\n",
              "    <tr>\n",
              "      <th>13</th>\n",
              "      <td>Bermuda Chino Preta</td>\n",
              "      <td>179.333543</td>\n",
              "    </tr>\n",
              "    <tr>\n",
              "      <th>14</th>\n",
              "      <td>Bermuda Chino Cinza</td>\n",
              "      <td>326.199275</td>\n",
              "    </tr>\n",
              "    <tr>\n",
              "      <th>15</th>\n",
              "      <td>Bermuda Chino Azul Marinho</td>\n",
              "      <td>329.884639</td>\n",
              "    </tr>\n",
              "    <tr>\n",
              "      <th>16</th>\n",
              "      <td>Bermuda Chino Verde Oliva</td>\n",
              "      <td>432.601755</td>\n",
              "    </tr>\n",
              "    <tr>\n",
              "      <th>17</th>\n",
              "      <td>Bermuda Chino Cáqui</td>\n",
              "      <td>496.532716</td>\n",
              "    </tr>\n",
              "    <tr>\n",
              "      <th>18</th>\n",
              "      <td>Bermuda Linho Azul Marinho</td>\n",
              "      <td>1383.212092</td>\n",
              "    </tr>\n",
              "    <tr>\n",
              "      <th>19</th>\n",
              "      <td>Bermuda Linho Natural</td>\n",
              "      <td>4374.043139</td>\n",
              "    </tr>\n",
              "  </tbody>\n",
              "</table>\n",
              "</div>\n",
              "      <button class=\"colab-df-convert\" onclick=\"convertToInteractive('df-fa1ff9cc-1aef-453d-8b2e-458c63dbdb46')\"\n",
              "              title=\"Convert this dataframe to an interactive table.\"\n",
              "              style=\"display:none;\">\n",
              "        \n",
              "  <svg xmlns=\"http://www.w3.org/2000/svg\" height=\"24px\"viewBox=\"0 0 24 24\"\n",
              "       width=\"24px\">\n",
              "    <path d=\"M0 0h24v24H0V0z\" fill=\"none\"/>\n",
              "    <path d=\"M18.56 5.44l.94 2.06.94-2.06 2.06-.94-2.06-.94-.94-2.06-.94 2.06-2.06.94zm-11 1L8.5 8.5l.94-2.06 2.06-.94-2.06-.94L8.5 2.5l-.94 2.06-2.06.94zm10 10l.94 2.06.94-2.06 2.06-.94-2.06-.94-.94-2.06-.94 2.06-2.06.94z\"/><path d=\"M17.41 7.96l-1.37-1.37c-.4-.4-.92-.59-1.43-.59-.52 0-1.04.2-1.43.59L10.3 9.45l-7.72 7.72c-.78.78-.78 2.05 0 2.83L4 21.41c.39.39.9.59 1.41.59.51 0 1.02-.2 1.41-.59l7.78-7.78 2.81-2.81c.8-.78.8-2.07 0-2.86zM5.41 20L4 18.59l7.72-7.72 1.47 1.35L5.41 20z\"/>\n",
              "  </svg>\n",
              "      </button>\n",
              "      \n",
              "  <style>\n",
              "    .colab-df-container {\n",
              "      display:flex;\n",
              "      flex-wrap:wrap;\n",
              "      gap: 12px;\n",
              "    }\n",
              "\n",
              "    .colab-df-convert {\n",
              "      background-color: #E8F0FE;\n",
              "      border: none;\n",
              "      border-radius: 50%;\n",
              "      cursor: pointer;\n",
              "      display: none;\n",
              "      fill: #1967D2;\n",
              "      height: 32px;\n",
              "      padding: 0 0 0 0;\n",
              "      width: 32px;\n",
              "    }\n",
              "\n",
              "    .colab-df-convert:hover {\n",
              "      background-color: #E2EBFA;\n",
              "      box-shadow: 0px 1px 2px rgba(60, 64, 67, 0.3), 0px 1px 3px 1px rgba(60, 64, 67, 0.15);\n",
              "      fill: #174EA6;\n",
              "    }\n",
              "\n",
              "    [theme=dark] .colab-df-convert {\n",
              "      background-color: #3B4455;\n",
              "      fill: #D2E3FC;\n",
              "    }\n",
              "\n",
              "    [theme=dark] .colab-df-convert:hover {\n",
              "      background-color: #434B5C;\n",
              "      box-shadow: 0px 1px 3px 1px rgba(0, 0, 0, 0.15);\n",
              "      filter: drop-shadow(0px 1px 2px rgba(0, 0, 0, 0.3));\n",
              "      fill: #FFFFFF;\n",
              "    }\n",
              "  </style>\n",
              "\n",
              "      <script>\n",
              "        const buttonEl =\n",
              "          document.querySelector('#df-fa1ff9cc-1aef-453d-8b2e-458c63dbdb46 button.colab-df-convert');\n",
              "        buttonEl.style.display =\n",
              "          google.colab.kernel.accessAllowed ? 'block' : 'none';\n",
              "\n",
              "        async function convertToInteractive(key) {\n",
              "          const element = document.querySelector('#df-fa1ff9cc-1aef-453d-8b2e-458c63dbdb46');\n",
              "          const dataTable =\n",
              "            await google.colab.kernel.invokeFunction('convertToInteractive',\n",
              "                                                     [key], {});\n",
              "          if (!dataTable) return;\n",
              "\n",
              "          const docLinkHtml = 'Like what you see? Visit the ' +\n",
              "            '<a target=\"_blank\" href=https://colab.research.google.com/notebooks/data_table.ipynb>data table notebook</a>'\n",
              "            + ' to learn more about interactive tables.';\n",
              "          element.innerHTML = '';\n",
              "          dataTable['output_type'] = 'display_data';\n",
              "          await google.colab.output.renderOutput(dataTable, element);\n",
              "          const docLink = document.createElement('div');\n",
              "          docLink.innerHTML = docLinkHtml;\n",
              "          element.appendChild(docLink);\n",
              "        }\n",
              "      </script>\n",
              "    </div>\n",
              "  </div>\n",
              "  "
            ]
          },
          "metadata": {}
        }
      ]
    },
    {
      "cell_type": "markdown",
      "source": [
        "# Download tables"
      ],
      "metadata": {
        "id": "VyQcc431LOkv"
      }
    },
    {
      "cell_type": "code",
      "source": [
        "mse_df.to_csv('mse_df.csv',index=None)\n"
      ],
      "metadata": {
        "id": "GPM-iVBQLN-4"
      },
      "execution_count": 14,
      "outputs": []
    },
    {
      "cell_type": "code",
      "source": [
        "from google.colab import files\n",
        "\n",
        "files.download('mse_df.csv')\n"
      ],
      "metadata": {
        "id": "yq61LyM4La63"
      },
      "execution_count": 15,
      "outputs": []
    }
  ]
}